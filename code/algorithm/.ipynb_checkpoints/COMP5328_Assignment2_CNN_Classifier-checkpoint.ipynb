{
 "cells": [
  {
   "cell_type": "markdown",
   "metadata": {},
   "source": [
    "# COMP5328-A2-CNN"
   ]
  },
  {
   "cell_type": "markdown",
   "metadata": {},
   "source": [
    "## 1. Import libraries"
   ]
  },
  {
   "cell_type": "code",
   "execution_count": 1,
   "metadata": {},
   "outputs": [],
   "source": [
    "import numpy as np\n",
    "from tensorflow import keras\n",
    "from tensorflow.keras import layers\n",
    "from tensorflow.keras.models import Sequential\n",
    "from tensorflow.keras.layers import Dense, Dropout, Flatten\n",
    "from tensorflow.keras.layers import Conv2D, MaxPooling2D\n",
    "import matplotlib.pyplot as plt\n",
    "from collections import Counter\n",
    "%matplotlib inline"
   ]
  },
  {
   "cell_type": "markdown",
   "metadata": {},
   "source": [
    "## 2. Data-preprocessing"
   ]
  },
  {
   "cell_type": "code",
   "execution_count": 6,
   "metadata": {},
   "outputs": [
    {
     "name": "stdout",
     "output_type": "stream",
     "text": [
      "x_train_mnist shape: (18000, 28, 28, 1)\n",
      "18000 train samples\n",
      "3000 test samples\n",
      "x_train_mnist2 shape: (18000, 28, 28, 1)\n",
      "18000 train samples\n",
      "3000 test samples\n",
      "x_train_cifar shape: (15000, 32, 32, 3)\n",
      "15000 train samples\n",
      "3000 test samples\n"
     ]
    }
   ],
   "source": [
    "# number of classes and the input shape of data\n",
    "num_classes = 3\n",
    "\n",
    "input_shape_mnist = (28, 28, 1)\n",
    "\n",
    "input_shape_mnist2 = (28, 28, 1)\n",
    "\n",
    "input_shape_cifar = (32, 32, 3)\n",
    "\n",
    "##Load the data\n",
    "#MNIST0.5\n",
    "def load_data_FashionMNIST0_5():\n",
    "\n",
    "    dataset_mnist = np.load('../data/FashionMNIST0.5.npz')\n",
    "\n",
    "    Xtr_mnist = dataset_mnist['Xtr']\n",
    "    Str_mnist = dataset_mnist['Str']\n",
    "    Xts_mnist = dataset_mnist['Xts']\n",
    "    Yts_mnist = dataset_mnist['Yts']\n",
    "    \n",
    "\n",
    "\n",
    "    return Xtr_mnist, Str_mnist, Xts_mnist, Yts_mnist\n",
    "\n",
    "#MNIST0.6\n",
    "def load_data_FashionMNIST0_6():\n",
    "    \n",
    "    dataset_mnist2 = np.load('../data/FashionMNIST0.6.npz')\n",
    "\n",
    "    \n",
    "    Xtr_mnist2 = dataset_mnist2['Xtr']\n",
    "    Str_mnist2= dataset_mnist2['Str']\n",
    "    Xts_mnist2 = dataset_mnist2['Xts']\n",
    "    Yts_mnist2 = dataset_mnist2['Yts']\n",
    "\n",
    "\n",
    "    return Xtr_mnist2, Str_mnist2, Xts_mnist2, Yts_mnist2\n",
    "\n",
    "#CIFAR\n",
    "def load_data_CIFAR():\n",
    "\n",
    "    dataset_cifar = np.load('../data/CIFAR.npz')\n",
    "\n",
    "\n",
    "    Xtr_cifar = dataset_cifar['Xtr']\n",
    "    Str_cifar = dataset_cifar['Str']\n",
    "    Xts_cifar = dataset_cifar['Xts']\n",
    "    Yts_cifar = dataset_cifar['Yts']\n",
    "\n",
    "    return Xtr_cifar, Str_cifar, Xts_cifar, Yts_cifar\n",
    "\n",
    "#Give parameters to different dataset\n",
    "x_train_mnist,y_train_mnist,x_test_mnist,y_test_mnist = load_data_FashionMNIST0_5()\n",
    "\n",
    "x_train_mnist2,y_train_mnist2,x_test_mnist2,y_test_mnist2 = load_data_FashionMNIST0_6()\n",
    "\n",
    "x_train_cifar,y_train_cifar,x_test_cifar,y_test_cifar = load_data_CIFAR()\n",
    "\n",
    "\n",
    "# Scale images to the [0, 1] range\n",
    "x_train_mnist = x_train_mnist.astype(\"float32\") / 255\n",
    "x_test_mnist = x_test_mnist.astype(\"float32\") / 255\n",
    "\n",
    "x_train_mnist2 = x_train_mnist2.astype(\"float32\") / 255\n",
    "x_test_mnist2 = x_test_mnist2.astype(\"float32\") / 255\n",
    "\n",
    "x_train_cifar = x_train_cifar.astype(\"float32\") / 255\n",
    "x_test_cifar = x_test_cifar.astype(\"float32\") / 255\n",
    "\n",
    "#reshape\n",
    "x_train_mnist = x_train_mnist.reshape(-1,28,28,1)\n",
    "x_test_mnist = x_test_mnist.reshape(-1,28,28,1)\n",
    "\n",
    "x_train_mnist2 = x_train_mnist2.reshape(-1,28,28,1)\n",
    "x_test_mnist2 = x_test_mnist2.reshape(-1,28,28,1)\n",
    "\n",
    "print(\"x_train_mnist shape:\", x_train_mnist.shape)\n",
    "print(x_train_mnist.shape[0], \"train samples\")\n",
    "print(x_test_mnist.shape[0], \"test samples\")\n",
    "\n",
    "print(\"x_train_mnist2 shape:\", x_train_mnist2.shape)\n",
    "print(x_train_mnist2.shape[0], \"train samples\")\n",
    "print(x_test_mnist2.shape[0], \"test samples\")\n",
    "\n",
    "print(\"x_train_cifar shape:\", x_train_cifar.shape)\n",
    "print(x_train_cifar.shape[0], \"train samples\")\n",
    "print(x_test_cifar.shape[0], \"test samples\")\n",
    "\n",
    "\n",
    "y_train_mnist_1 = y_train_mnist\n",
    "y_test_mnist_1 = y_test_mnist\n",
    "\n",
    "y_train_mnist2_1 = y_train_mnist2\n",
    "y_test_mnist2_1 = y_test_mnist2\n",
    "\n",
    "y_train_cifar_1 = y_train_cifar\n",
    "y_test_cifar_1 = y_test_cifar\n",
    "\n",
    "# convert class vectors to binary class matrices\n",
    "y_train_mnist = keras.utils.to_categorical(y_train_mnist, num_classes)\n",
    "y_test_mnist = keras.utils.to_categorical(y_test_mnist, num_classes)\n",
    "\n",
    "y_train_mnist2 = keras.utils.to_categorical(y_train_mnist2, num_classes)\n",
    "y_test_mnist2 = keras.utils.to_categorical(y_test_mnist2, num_classes)\n",
    "\n",
    "y_train_cifar = keras.utils.to_categorical(y_train_cifar, num_classes)\n",
    "y_test_cifar = keras.utils.to_categorical(y_test_cifar, num_classes)"
   ]
  },
  {
   "cell_type": "markdown",
   "metadata": {},
   "source": [
    "## 3. CNN Models"
   ]
  },
  {
   "cell_type": "code",
   "execution_count": 5,
   "metadata": {},
   "outputs": [
    {
     "name": "stdout",
     "output_type": "stream",
     "text": [
      "Model: \"sequential_1\"\n",
      "_________________________________________________________________\n",
      "Layer (type)                 Output Shape              Param #   \n",
      "=================================================================\n",
      "conv2d_2 (Conv2D)            (None, 28, 28, 32)        320       \n",
      "_________________________________________________________________\n",
      "max_pooling2d_2 (MaxPooling2 (None, 14, 14, 32)        0         \n",
      "_________________________________________________________________\n",
      "conv2d_3 (Conv2D)            (None, 14, 14, 64)        18496     \n",
      "_________________________________________________________________\n",
      "max_pooling2d_3 (MaxPooling2 (None, 7, 7, 64)          0         \n",
      "_________________________________________________________________\n",
      "flatten_1 (Flatten)          (None, 3136)              0         \n",
      "_________________________________________________________________\n",
      "dropout_1 (Dropout)          (None, 3136)              0         \n",
      "_________________________________________________________________\n",
      "dense_1 (Dense)              (None, 3)                 9411      \n",
      "=================================================================\n",
      "Total params: 28,227\n",
      "Trainable params: 28,227\n",
      "Non-trainable params: 0\n",
      "_________________________________________________________________\n",
      "Model: \"sequential_2\"\n",
      "_________________________________________________________________\n",
      "Layer (type)                 Output Shape              Param #   \n",
      "=================================================================\n",
      "conv2d_4 (Conv2D)            (None, 28, 28, 32)        320       \n",
      "_________________________________________________________________\n",
      "max_pooling2d_4 (MaxPooling2 (None, 14, 14, 32)        0         \n",
      "_________________________________________________________________\n",
      "conv2d_5 (Conv2D)            (None, 14, 14, 64)        18496     \n",
      "_________________________________________________________________\n",
      "max_pooling2d_5 (MaxPooling2 (None, 7, 7, 64)          0         \n",
      "_________________________________________________________________\n",
      "flatten_2 (Flatten)          (None, 3136)              0         \n",
      "_________________________________________________________________\n",
      "dropout_2 (Dropout)          (None, 3136)              0         \n",
      "_________________________________________________________________\n",
      "dense_2 (Dense)              (None, 3)                 9411      \n",
      "=================================================================\n",
      "Total params: 28,227\n",
      "Trainable params: 28,227\n",
      "Non-trainable params: 0\n",
      "_________________________________________________________________\n",
      "Model: \"sequential_3\"\n",
      "_________________________________________________________________\n",
      "Layer (type)                 Output Shape              Param #   \n",
      "=================================================================\n",
      "conv2d_6 (Conv2D)            (None, 32, 32, 32)        896       \n",
      "_________________________________________________________________\n",
      "max_pooling2d_6 (MaxPooling2 (None, 16, 16, 32)        0         \n",
      "_________________________________________________________________\n",
      "conv2d_7 (Conv2D)            (None, 16, 16, 64)        18496     \n",
      "_________________________________________________________________\n",
      "max_pooling2d_7 (MaxPooling2 (None, 8, 8, 64)          0         \n",
      "_________________________________________________________________\n",
      "conv2d_8 (Conv2D)            (None, 6, 6, 96)          55392     \n",
      "_________________________________________________________________\n",
      "max_pooling2d_8 (MaxPooling2 (None, 3, 3, 96)          0         \n",
      "_________________________________________________________________\n",
      "flatten_3 (Flatten)          (None, 864)               0         \n",
      "_________________________________________________________________\n",
      "dropout_3 (Dropout)          (None, 864)               0         \n",
      "_________________________________________________________________\n",
      "dense_3 (Dense)              (None, 3)                 2595      \n",
      "=================================================================\n",
      "Total params: 77,379\n",
      "Trainable params: 77,379\n",
      "Non-trainable params: 0\n",
      "_________________________________________________________________\n"
     ]
    }
   ],
   "source": [
    "##CNN model for three datasets\n",
    "#MNIST0.5\n",
    "def CNN_Model():\n",
    "        model = keras.Sequential(\n",
    "        [\n",
    "            keras.Input(shape=input_shape_mnist),\n",
    "            layers.Conv2D(32, kernel_size=(3, 3), padding='same', activation=\"relu\"),\n",
    "            layers.MaxPooling2D(pool_size=(2, 2)),\n",
    "            layers.Conv2D(64, kernel_size=(3, 3), padding='same',activation=\"relu\"),\n",
    "            layers.MaxPooling2D(pool_size=(2, 2)),\n",
    "            layers.Flatten(),\n",
    "            layers.Dropout(0.8),\n",
    "            layers.Dense(num_classes, activation=\"softmax\"),\n",
    "        ]\n",
    "        )\n",
    "        return model\n",
    "\n",
    "cnn_mnist = CNN_Model()\n",
    "cnn_mnist.summary()\n",
    "\n",
    "#MNIST0.6\n",
    "def CNN_Model2():\n",
    "    model = Sequential(\n",
    "        [\n",
    "            keras.Input(shape=input_shape_mnist2),\n",
    "            layers.Conv2D(32, kernel_size=(3, 3), padding='same',activation=\"relu\"),\n",
    "            layers.MaxPooling2D(pool_size=(2, 2)),\n",
    "            layers.Conv2D(64, kernel_size=(3, 3), padding='same',activation=\"relu\"),\n",
    "            layers.MaxPooling2D(pool_size=(2, 2)),\n",
    "            layers.Flatten(),\n",
    "            layers.Dropout(0.85),\n",
    "            layers.Dense(num_classes, activation=\"softmax\"),\n",
    "        ]\n",
    "        )\n",
    "    return model\n",
    "\n",
    "cnn_mnist2 = CNN_Model2()\n",
    "cnn_mnist2.summary()\n",
    "\n",
    "#CIFAR\n",
    "def CNN_Model3():\n",
    "    model = keras.Sequential(\n",
    "        [\n",
    "            keras.Input(shape=input_shape_cifar),\n",
    "            layers.Conv2D(32, kernel_size=(3, 3), padding='same',activation=\"relu\"),\n",
    "            layers.MaxPooling2D(pool_size=(2, 2)),\n",
    "            layers.Conv2D(64, kernel_size=(3, 3), padding='same',activation=\"relu\"),\n",
    "            layers.MaxPooling2D(pool_size=(2, 2)),\n",
    "            layers.Conv2D(96, kernel_size=(3, 3), activation=\"relu\"),\n",
    "            layers.MaxPooling2D(pool_size=(2, 2)),\n",
    "            layers.Flatten(),\n",
    "            layers.Dropout(0.8),\n",
    "            layers.Dense(num_classes, activation=\"softmax\"),\n",
    "        ]\n",
    "        )\n",
    "    return model\n",
    "\n",
    "cnn_cifar = CNN_Model3()\n",
    "cnn_cifar.summary()"
   ]
  },
  {
   "cell_type": "markdown",
   "metadata": {},
   "source": [
    "## 4. Calculate the transition matrix"
   ]
  },
  {
   "cell_type": "code",
   "execution_count": 7,
   "metadata": {},
   "outputs": [],
   "source": [
    "#marix\n",
    "def matrix_inv(model, train_data, train_label):\n",
    "\n",
    "    train_model = model;\n",
    "    predict_train = train_model.predict_proba(train_data) \n",
    "    a = np.argmax(predict_train, axis = 1)\n",
    "    dic = {}\n",
    "\n",
    "    for i in range(len(train_label)):\n",
    "        truth = train_label[i]\n",
    "        pred = a[i]\n",
    "        if truth in dic.keys():\n",
    "            dic[truth][pred] += 1\n",
    "        else:\n",
    "            dic[truth] = [0,0,0]\n",
    "            dic[truth][pred] += 1\n",
    "\n",
    "    num = Counter(train_label)\n",
    "\n",
    "    matrix = np.array([[dic[0][0]/num[0],dic[0][1]/num[0], dic[0][2]/num[0]], [dic[1][0]/num[1],dic[1][1]/num[1],dic[1][2]/num[1]], [dic[2][0]/num[2],dic[2][1]/num[2],dic[2][2]/num[2]]])\n",
    "    return matrix\n",
    "\n",
    "def cal_acc(matrix, model, test_data, test_label):\n",
    "    \n",
    "    matrix_inv = np.linalg.pinv(matrix)\n",
    "    predict_with_CNN = model.predict_proba(test_data)\n",
    "    predict_with_CNN_Adjust = np.dot(matrix_inv, predict_with_CNN.T)\n",
    "    predict_result_clean_CNN = np.argmax(predict_with_CNN_Adjust, axis = 0)\n",
    "    acc = (predict_result_clean_CNN == test_label).mean()\n",
    "    return acc"
   ]
  },
  {
   "cell_type": "code",
   "execution_count": 8,
   "metadata": {},
   "outputs": [],
   "source": [
    "#TTM\n",
    "matrix_MN5 = np.array([[0.5,0.2,0.3],[0.3,0.5,0.2],[0.2,0.3,0.5]])\n",
    "matrix_MN6 = np.array([[0.4,0.3,0.3],[0.3,0.4,0.3],[0.3,0.3,0.4]])"
   ]
  },
  {
   "cell_type": "markdown",
   "metadata": {},
   "source": [
    "# 5. Accuracy for each dataset"
   ]
  },
  {
   "cell_type": "markdown",
   "metadata": {},
   "source": [
    "## 5.1 FashionMNIST0.5"
   ]
  },
  {
   "cell_type": "code",
   "execution_count": 9,
   "metadata": {},
   "outputs": [
    {
     "name": "stdout",
     "output_type": "stream",
     "text": [
      "Epoch 1/10\n",
      "113/113 [==============================] - 6s 49ms/step - loss: 1.0711 - accuracy: 0.4315 - val_loss: 1.0441 - val_accuracy: 0.4894\n",
      "Epoch 2/10\n",
      "113/113 [==============================] - 6s 54ms/step - loss: 1.0569 - accuracy: 0.4626 - val_loss: 1.0414 - val_accuracy: 0.4933\n",
      "Epoch 3/10\n",
      "113/113 [==============================] - 6s 49ms/step - loss: 1.0553 - accuracy: 0.4672 - val_loss: 1.0399 - val_accuracy: 0.4983\n",
      "Epoch 4/10\n",
      "113/113 [==============================] - 5s 48ms/step - loss: 1.0532 - accuracy: 0.4706 - val_loss: 1.0458 - val_accuracy: 0.4875\n",
      "Epoch 5/10\n",
      "113/113 [==============================] - 5s 48ms/step - loss: 1.0523 - accuracy: 0.4693 - val_loss: 1.0426 - val_accuracy: 0.4944\n",
      "Epoch 6/10\n",
      "113/113 [==============================] - 6s 52ms/step - loss: 1.0502 - accuracy: 0.4722 - val_loss: 1.0386 - val_accuracy: 0.4950\n",
      "Epoch 7/10\n",
      "113/113 [==============================] - 5s 46ms/step - loss: 1.0511 - accuracy: 0.4712 - val_loss: 1.0386 - val_accuracy: 0.4969\n",
      "Epoch 8/10\n",
      "113/113 [==============================] - 6s 51ms/step - loss: 1.0481 - accuracy: 0.4715 - val_loss: 1.0457 - val_accuracy: 0.4936\n",
      "Epoch 9/10\n",
      "113/113 [==============================] - 5s 47ms/step - loss: 1.0487 - accuracy: 0.4751 - val_loss: 1.0386 - val_accuracy: 0.4969\n",
      "Epoch 10/10\n",
      "113/113 [==============================] - 5s 47ms/step - loss: 1.0448 - accuracy: 0.4800 - val_loss: 1.0387 - val_accuracy: 0.4972\n",
      "94/94 [==============================] - 0s 3ms/step - loss: 0.7662 - accuracy: 0.9213\n",
      "WARNING:tensorflow:From <ipython-input-7-bb6f776e78de>:26: Sequential.predict_proba (from tensorflow.python.keras.engine.sequential) is deprecated and will be removed after 2021-01-01.\n",
      "Instructions for updating:\n",
      "Please use `model.predict()` instead.\n",
      "Epoch 1/10\n",
      "113/113 [==============================] - 6s 49ms/step - loss: 1.0738 - accuracy: 0.4272 - val_loss: 1.0490 - val_accuracy: 0.4919\n",
      "Epoch 2/10\n",
      "113/113 [==============================] - 5s 47ms/step - loss: 1.0568 - accuracy: 0.4597 - val_loss: 1.0405 - val_accuracy: 0.4919\n",
      "Epoch 3/10\n",
      "113/113 [==============================] - 6s 53ms/step - loss: 1.0555 - accuracy: 0.4659 - val_loss: 1.0417 - val_accuracy: 0.4939\n",
      "Epoch 4/10\n",
      "113/113 [==============================] - 5s 48ms/step - loss: 1.0522 - accuracy: 0.4701 - val_loss: 1.0418 - val_accuracy: 0.4925\n",
      "Epoch 5/10\n",
      "113/113 [==============================] - 6s 50ms/step - loss: 1.0502 - accuracy: 0.4683 - val_loss: 1.0412 - val_accuracy: 0.4947\n",
      "Epoch 6/10\n",
      "113/113 [==============================] - 6s 51ms/step - loss: 1.0501 - accuracy: 0.4727 - val_loss: 1.0470 - val_accuracy: 0.4883\n",
      "Epoch 7/10\n",
      "113/113 [==============================] - 6s 50ms/step - loss: 1.0510 - accuracy: 0.4731 - val_loss: 1.0393 - val_accuracy: 0.4975\n",
      "Epoch 8/10\n",
      "113/113 [==============================] - 6s 51ms/step - loss: 1.0471 - accuracy: 0.4733 - val_loss: 1.0372 - val_accuracy: 0.4958\n",
      "Epoch 9/10\n",
      "113/113 [==============================] - 6s 49ms/step - loss: 1.0483 - accuracy: 0.4737 - val_loss: 1.0382 - val_accuracy: 0.4986\n",
      "Epoch 10/10\n",
      "113/113 [==============================] - 6s 52ms/step - loss: 1.0447 - accuracy: 0.4767 - val_loss: 1.0414 - val_accuracy: 0.4967\n",
      "94/94 [==============================] - 0s 3ms/step - loss: 0.8390 - accuracy: 0.9250\n",
      "Epoch 1/10\n",
      "113/113 [==============================] - 6s 52ms/step - loss: 1.0721 - accuracy: 0.4365 - val_loss: 1.0500 - val_accuracy: 0.4869\n",
      "Epoch 2/10\n",
      "113/113 [==============================] - 6s 53ms/step - loss: 1.0581 - accuracy: 0.4631 - val_loss: 1.0392 - val_accuracy: 0.4939\n",
      "Epoch 3/10\n",
      "113/113 [==============================] - 6s 53ms/step - loss: 1.0522 - accuracy: 0.4698 - val_loss: 1.0508 - val_accuracy: 0.4794\n",
      "Epoch 4/10\n",
      "113/113 [==============================] - 6s 50ms/step - loss: 1.0525 - accuracy: 0.4704 - val_loss: 1.0400 - val_accuracy: 0.4928\n",
      "Epoch 5/10\n",
      "113/113 [==============================] - 6s 51ms/step - loss: 1.0511 - accuracy: 0.4737 - val_loss: 1.0420 - val_accuracy: 0.4892\n",
      "Epoch 6/10\n",
      "113/113 [==============================] - 6s 49ms/step - loss: 1.0505 - accuracy: 0.4715 - val_loss: 1.0394 - val_accuracy: 0.4947\n",
      "Epoch 7/10\n",
      "113/113 [==============================] - 6s 51ms/step - loss: 1.0492 - accuracy: 0.4738 - val_loss: 1.0390 - val_accuracy: 0.4942\n",
      "Epoch 8/10\n",
      "113/113 [==============================] - 6s 49ms/step - loss: 1.0472 - accuracy: 0.4721 - val_loss: 1.0384 - val_accuracy: 0.4942\n",
      "Epoch 9/10\n",
      "113/113 [==============================] - 6s 52ms/step - loss: 1.0473 - accuracy: 0.4728 - val_loss: 1.0405 - val_accuracy: 0.4942\n",
      "Epoch 10/10\n",
      "113/113 [==============================] - 6s 52ms/step - loss: 1.0453 - accuracy: 0.4756 - val_loss: 1.0399 - val_accuracy: 0.4914\n",
      "94/94 [==============================] - 0s 3ms/step - loss: 0.8062 - accuracy: 0.9287\n",
      "Epoch 1/10\n",
      "113/113 [==============================] - 6s 53ms/step - loss: 1.0719 - accuracy: 0.4304 - val_loss: 1.0453 - val_accuracy: 0.4867\n",
      "Epoch 2/10\n",
      "113/113 [==============================] - 6s 51ms/step - loss: 1.0573 - accuracy: 0.4617 - val_loss: 1.0548 - val_accuracy: 0.4675\n",
      "Epoch 3/10\n",
      "113/113 [==============================] - 6s 52ms/step - loss: 1.0541 - accuracy: 0.4678 - val_loss: 1.0402 - val_accuracy: 0.4922\n",
      "Epoch 4/10\n",
      "113/113 [==============================] - 6s 52ms/step - loss: 1.0520 - accuracy: 0.4716 - val_loss: 1.0412 - val_accuracy: 0.4928\n",
      "Epoch 5/10\n",
      "113/113 [==============================] - 6s 51ms/step - loss: 1.0530 - accuracy: 0.4708 - val_loss: 1.0400 - val_accuracy: 0.4944\n",
      "Epoch 6/10\n",
      "113/113 [==============================] - 5s 48ms/step - loss: 1.0499 - accuracy: 0.4733 - val_loss: 1.0405 - val_accuracy: 0.4947\n",
      "Epoch 7/10\n",
      "113/113 [==============================] - 5s 47ms/step - loss: 1.0488 - accuracy: 0.4735 - val_loss: 1.0409 - val_accuracy: 0.4978\n",
      "Epoch 8/10\n",
      "113/113 [==============================] - 5s 48ms/step - loss: 1.0465 - accuracy: 0.4752 - val_loss: 1.0381 - val_accuracy: 0.4947\n",
      "Epoch 9/10\n",
      "113/113 [==============================] - 5s 48ms/step - loss: 1.0464 - accuracy: 0.4743 - val_loss: 1.0393 - val_accuracy: 0.4972\n",
      "Epoch 10/10\n",
      "113/113 [==============================] - 6s 49ms/step - loss: 1.0464 - accuracy: 0.4738 - val_loss: 1.0409 - val_accuracy: 0.4956\n",
      "94/94 [==============================] - 0s 4ms/step - loss: 0.8022 - accuracy: 0.9207\n",
      "Epoch 1/10\n",
      "113/113 [==============================] - 6s 51ms/step - loss: 1.0710 - accuracy: 0.4375 - val_loss: 1.0463 - val_accuracy: 0.4847\n",
      "Epoch 2/10\n",
      "113/113 [==============================] - 6s 51ms/step - loss: 1.0553 - accuracy: 0.4620 - val_loss: 1.0439 - val_accuracy: 0.4875\n",
      "Epoch 3/10\n",
      "113/113 [==============================] - 6s 53ms/step - loss: 1.0544 - accuracy: 0.4672 - val_loss: 1.0400 - val_accuracy: 0.4883\n",
      "Epoch 4/10\n",
      "113/113 [==============================] - 6s 50ms/step - loss: 1.0535 - accuracy: 0.4671 - val_loss: 1.0419 - val_accuracy: 0.4958\n",
      "Epoch 5/10\n",
      "113/113 [==============================] - 6s 52ms/step - loss: 1.0515 - accuracy: 0.4711 - val_loss: 1.0392 - val_accuracy: 0.4947\n",
      "Epoch 6/10\n",
      "113/113 [==============================] - 6s 53ms/step - loss: 1.0501 - accuracy: 0.4717 - val_loss: 1.0393 - val_accuracy: 0.4950\n",
      "Epoch 7/10\n",
      "113/113 [==============================] - 6s 51ms/step - loss: 1.0489 - accuracy: 0.4742 - val_loss: 1.0389 - val_accuracy: 0.4961\n",
      "Epoch 8/10\n",
      "113/113 [==============================] - 6s 51ms/step - loss: 1.0470 - accuracy: 0.4710 - val_loss: 1.0412 - val_accuracy: 0.4939\n",
      "Epoch 9/10\n",
      "113/113 [==============================] - 6s 50ms/step - loss: 1.0466 - accuracy: 0.4735 - val_loss: 1.0384 - val_accuracy: 0.4975\n",
      "Epoch 10/10\n",
      "113/113 [==============================] - 6s 51ms/step - loss: 1.0460 - accuracy: 0.4754 - val_loss: 1.0378 - val_accuracy: 0.4953\n",
      "94/94 [==============================] - 0s 3ms/step - loss: 0.7823 - accuracy: 0.9327\n"
     ]
    }
   ],
   "source": [
    "#MNIST0.5 fit\n",
    "mean_1 = []\n",
    "mean_TM_1 = []\n",
    "mean_EM_1 = []\n",
    "times = 5\n",
    "for i in range(times):\n",
    "    cnn_mnist = CNN_Model()\n",
    "    batch_size = 128\n",
    "    epochs = 15\n",
    "\n",
    "    cnn_mnist.compile(loss=\"categorical_crossentropy\", optimizer=\"rmsprop\", metrics=[\"accuracy\"])\n",
    "\n",
    "    history = cnn_mnist.fit(x_train_mnist, y_train_mnist, batch_size=batch_size, epochs=epochs, validation_split=0.2)\n",
    "    \n",
    "    #直接跑\n",
    "    score = cnn_mnist.evaluate(x_test_mnist, y_test_mnist)\n",
    "    \n",
    "    mean_1.append(score[1])\n",
    "    \n",
    "    #TM\n",
    "    acc1_TM = cal_acc(matrix_MN5, cnn_mnist, x_test_mnist, y_test_mnist_1)\n",
    "    mean_TM_1.append(acc1_TM)\n",
    "    \n",
    "    #EM\n",
    "    matrix1 = matrix_inv(cnn_mnist, x_train_mnist, y_train_mnist_1)\n",
    "    \n",
    "    acc1_EM = cal_acc(matrix1, cnn_mnist, x_test_mnist, y_test_mnist_1)\n",
    "    \n",
    "    mean_EM_1.append(acc1_EM)\n",
    "    \n"
   ]
  },
  {
   "cell_type": "markdown",
   "metadata": {},
   "source": [
    "## 5.1.2 Estimate Transition Matrix"
   ]
  },
  {
   "cell_type": "code",
   "execution_count": 10,
   "metadata": {},
   "outputs": [
    {
     "data": {
      "text/plain": [
       "array([[0.49033333, 0.193     , 0.31666667],\n",
       "       [0.29833333, 0.4745    , 0.22716667],\n",
       "       [0.224     , 0.287     , 0.489     ]])"
      ]
     },
     "execution_count": 10,
     "metadata": {},
     "output_type": "execute_result"
    }
   ],
   "source": [
    "matrix1 = matrix_inv(cnn_mnist, x_train_mnist, y_train_mnist_1)\n",
    "matrix1"
   ]
  },
  {
   "cell_type": "markdown",
   "metadata": {},
   "source": [
    "## 5.1.3 Calculate the Mean and STD"
   ]
  },
  {
   "cell_type": "code",
   "execution_count": 11,
   "metadata": {},
   "outputs": [
    {
     "name": "stdout",
     "output_type": "stream",
     "text": [
      "Mean accuracy of directly CNN is: 92.57%  STD is : 0.004521546373557272\n",
      "Mean accuracy of Transition Matrix is: 93.20%  STD is : 0.0013662601021279584\n",
      "Mean accuracy of Estimated Transition Matrix is: 93.13%  STD is : 0.0010540925533894631\n"
     ]
    }
   ],
   "source": [
    "##Mean and std\n",
    "print(\"Mean accuracy of directly CNN is: {:.2f}%\".format(np.array(mean_1).mean()*100),\" STD is :\",np.array(mean_1).std())\n",
    "print(\"Mean accuracy of Transition Matrix is: {:.2f}%\".format(np.array(mean_TM_1).mean()*100),\" STD is :\",np.array(mean_TM_1).std())\n",
    "print(\"Mean accuracy of Estimated Transition Matrix is: {:.2f}%\".format(np.array(mean_EM_1).mean()*100),\" STD is :\",np.array(mean_EM_1).std())"
   ]
  },
  {
   "cell_type": "markdown",
   "metadata": {},
   "source": [
    "## 5.1.4 Comparison Charts"
   ]
  },
  {
   "cell_type": "code",
   "execution_count": 12,
   "metadata": {},
   "outputs": [
    {
     "data": {
      "image/png": "[encoded data removed]",
      "text/plain": [
       "<Figure size 432x288 with 1 Axes>"
      ]
     },
     "metadata": {
      "needs_background": "light"
     },
     "output_type": "display_data"
    },
    {
     "data": {
      "image/png": "[encoded data removed]",
      "text/plain": [
       "<Figure size 432x288 with 1 Axes>"
      ]
     },
     "metadata": {
      "needs_background": "light"
     },
     "output_type": "display_data"
    }
   ],
   "source": [
    "#Graph of directly CNN accuracy and Estimated Transition Matrix accuracy\n",
    "plt.title(\"CNN accuracy,True TM accuracy and Estimated TM accuracy\")\n",
    "plt.plot(mean_1, label='accuracy')\n",
    "plt.plot(mean_TM_1, label = 'TTM_accuracy')\n",
    "plt.plot(mean_EM_1, label = 'ETM_accuracy')\n",
    "plt.xlabel('Epoch')\n",
    "plt.ylabel('Accuracy')\n",
    "plt.ylim([0.9, 1])\n",
    "plt.legend(loc='lower right')\n",
    "plt.show()\n",
    "\n",
    "#Graph of train accuracy and val-accuracy\n",
    "plt.title(\"train accuracy and val-accuracy\")\n",
    "plt.plot(history.history['accuracy'], label='train_accuracy')\n",
    "plt.plot(history.history['val_accuracy'], label = 'val_accuracy')\n",
    "plt.xlabel('Epoch')\n",
    "plt.ylabel('Accuracy')\n",
    "plt.ylim([0.4, 0.6])\n",
    "plt.legend(loc='lower right')\n",
    "plt.show()\n",
    "# test_loss, test_acc = cnn_mnist.evaluate(x_test_mnist,  y_test_mnist, verbose=2)"
   ]
  },
  {
   "cell_type": "markdown",
   "metadata": {},
   "source": [
    "## 5.2 FashionMNIST0.6"
   ]
  },
  {
   "cell_type": "code",
   "execution_count": 25,
   "metadata": {},
   "outputs": [
    {
     "name": "stdout",
     "output_type": "stream",
     "text": [
      "Epoch 1/10\n",
      "113/113 [==============================] - 6s 53ms/step - loss: 1.0985 - accuracy: 0.3624 - val_loss: 1.0952 - val_accuracy: 0.3692\n",
      "Epoch 2/10\n",
      "113/113 [==============================] - 6s 54ms/step - loss: 1.0947 - accuracy: 0.3790 - val_loss: 1.0950 - val_accuracy: 0.3781\n",
      "Epoch 3/10\n",
      "113/113 [==============================] - 6s 54ms/step - loss: 1.0929 - accuracy: 0.3875 - val_loss: 1.0949 - val_accuracy: 0.3839\n",
      "Epoch 4/10\n",
      "113/113 [==============================] - 6s 52ms/step - loss: 1.0919 - accuracy: 0.3883 - val_loss: 1.0938 - val_accuracy: 0.3833\n",
      "Epoch 5/10\n",
      "113/113 [==============================] - 5s 49ms/step - loss: 1.0911 - accuracy: 0.3910 - val_loss: 1.0954 - val_accuracy: 0.3819\n",
      "Epoch 6/10\n",
      "113/113 [==============================] - 5s 42ms/step - loss: 1.0913 - accuracy: 0.3885 - val_loss: 1.0947 - val_accuracy: 0.3853\n",
      "Epoch 7/10\n",
      "113/113 [==============================] - 5s 43ms/step - loss: 1.0911 - accuracy: 0.3958 - val_loss: 1.0972 - val_accuracy: 0.3786\n",
      "Epoch 8/10\n",
      "113/113 [==============================] - 5s 42ms/step - loss: 1.0908 - accuracy: 0.3945 - val_loss: 1.0945 - val_accuracy: 0.3825\n",
      "Epoch 9/10\n",
      "113/113 [==============================] - 5s 43ms/step - loss: 1.0895 - accuracy: 0.3926 - val_loss: 1.0947 - val_accuracy: 0.3858\n",
      "Epoch 10/10\n",
      "113/113 [==============================] - 5s 42ms/step - loss: 1.0902 - accuracy: 0.3964 - val_loss: 1.0958 - val_accuracy: 0.3831\n",
      "94/94 [==============================] - 0s 3ms/step - loss: 0.9669 - accuracy: 0.8917\n",
      "Epoch 1/10\n",
      "113/113 [==============================] - 5s 44ms/step - loss: 1.0984 - accuracy: 0.3622 - val_loss: 1.0946 - val_accuracy: 0.3833\n",
      "Epoch 2/10\n",
      "113/113 [==============================] - 5s 45ms/step - loss: 1.0922 - accuracy: 0.3785 - val_loss: 1.0957 - val_accuracy: 0.3825\n",
      "Epoch 3/10\n",
      "113/113 [==============================] - 5s 44ms/step - loss: 1.0923 - accuracy: 0.3821 - val_loss: 1.0941 - val_accuracy: 0.3839\n",
      "Epoch 4/10\n",
      "113/113 [==============================] - 5s 44ms/step - loss: 1.0915 - accuracy: 0.3857 - val_loss: 1.0936 - val_accuracy: 0.3844\n",
      "Epoch 5/10\n",
      "113/113 [==============================] - 5s 43ms/step - loss: 1.0907 - accuracy: 0.3894 - val_loss: 1.0943 - val_accuracy: 0.3836\n",
      "Epoch 6/10\n",
      "113/113 [==============================] - 5s 43ms/step - loss: 1.0913 - accuracy: 0.3858 - val_loss: 1.0955 - val_accuracy: 0.3803\n",
      "Epoch 7/10\n",
      "113/113 [==============================] - 5s 44ms/step - loss: 1.0909 - accuracy: 0.3918 - val_loss: 1.0959 - val_accuracy: 0.3869\n",
      "Epoch 8/10\n",
      "113/113 [==============================] - 5s 44ms/step - loss: 1.0894 - accuracy: 0.3908 - val_loss: 1.0955 - val_accuracy: 0.3861\n",
      "Epoch 9/10\n",
      "113/113 [==============================] - 5s 43ms/step - loss: 1.0902 - accuracy: 0.3899 - val_loss: 1.0953 - val_accuracy: 0.3842\n",
      "Epoch 10/10\n",
      "113/113 [==============================] - 5s 45ms/step - loss: 1.0892 - accuracy: 0.3930 - val_loss: 1.0969 - val_accuracy: 0.3831\n",
      "94/94 [==============================] - 0s 3ms/step - loss: 0.9599 - accuracy: 0.8773\n",
      "Epoch 1/10\n",
      "113/113 [==============================] - 5s 47ms/step - loss: 1.0974 - accuracy: 0.3608 - val_loss: 1.0950 - val_accuracy: 0.3725\n",
      "Epoch 2/10\n",
      "113/113 [==============================] - 5s 43ms/step - loss: 1.0937 - accuracy: 0.3726 - val_loss: 1.0940 - val_accuracy: 0.3783\n",
      "Epoch 3/10\n",
      "113/113 [==============================] - 5s 42ms/step - loss: 1.0925 - accuracy: 0.3858 - val_loss: 1.0941 - val_accuracy: 0.3822\n",
      "Epoch 4/10\n",
      "113/113 [==============================] - 5s 42ms/step - loss: 1.0921 - accuracy: 0.3872 - val_loss: 1.0939 - val_accuracy: 0.3858\n",
      "Epoch 5/10\n",
      "113/113 [==============================] - 5s 45ms/step - loss: 1.0918 - accuracy: 0.3913 - val_loss: 1.0950 - val_accuracy: 0.3806\n",
      "Epoch 6/10\n",
      "113/113 [==============================] - 5s 42ms/step - loss: 1.0908 - accuracy: 0.3911 - val_loss: 1.0948 - val_accuracy: 0.3853\n",
      "Epoch 7/10\n",
      "113/113 [==============================] - 5s 42ms/step - loss: 1.0905 - accuracy: 0.3922 - val_loss: 1.0947 - val_accuracy: 0.3856\n",
      "Epoch 8/10\n",
      "113/113 [==============================] - 5s 43ms/step - loss: 1.0908 - accuracy: 0.3933 - val_loss: 1.0954 - val_accuracy: 0.3803\n",
      "Epoch 9/10\n",
      "113/113 [==============================] - 5s 43ms/step - loss: 1.0905 - accuracy: 0.3937 - val_loss: 1.0946 - val_accuracy: 0.3872\n",
      "Epoch 10/10\n",
      "113/113 [==============================] - 5s 42ms/step - loss: 1.0913 - accuracy: 0.3894 - val_loss: 1.0963 - val_accuracy: 0.3844\n",
      "94/94 [==============================] - 0s 3ms/step - loss: 0.9290 - accuracy: 0.9073\n",
      "Epoch 1/10\n",
      "113/113 [==============================] - 5s 46ms/step - loss: 1.0993 - accuracy: 0.3530 - val_loss: 1.0952 - val_accuracy: 0.3811\n",
      "Epoch 2/10\n",
      "113/113 [==============================] - 6s 50ms/step - loss: 1.0958 - accuracy: 0.3715 - val_loss: 1.0946 - val_accuracy: 0.3817\n",
      "Epoch 3/10\n",
      "113/113 [==============================] - 6s 50ms/step - loss: 1.0945 - accuracy: 0.3752 - val_loss: 1.0942 - val_accuracy: 0.3814\n",
      "Epoch 4/10\n",
      "113/113 [==============================] - 6s 52ms/step - loss: 1.0943 - accuracy: 0.3817 - val_loss: 1.0954 - val_accuracy: 0.3778\n",
      "Epoch 5/10\n",
      "113/113 [==============================] - 6s 53ms/step - loss: 1.0927 - accuracy: 0.3837 - val_loss: 1.0954 - val_accuracy: 0.3814\n",
      "Epoch 6/10\n",
      "113/113 [==============================] - 6s 54ms/step - loss: 1.0921 - accuracy: 0.3851 - val_loss: 1.0939 - val_accuracy: 0.3864\n",
      "Epoch 7/10\n",
      "113/113 [==============================] - 6s 51ms/step - loss: 1.0921 - accuracy: 0.3873 - val_loss: 1.0953 - val_accuracy: 0.3831\n",
      "Epoch 8/10\n",
      "113/113 [==============================] - 6s 51ms/step - loss: 1.0913 - accuracy: 0.3887 - val_loss: 1.0952 - val_accuracy: 0.3875\n",
      "Epoch 9/10\n",
      "113/113 [==============================] - 6s 50ms/step - loss: 1.0908 - accuracy: 0.3877 - val_loss: 1.0954 - val_accuracy: 0.3867\n",
      "Epoch 10/10\n",
      "113/113 [==============================] - 6s 50ms/step - loss: 1.0906 - accuracy: 0.3915 - val_loss: 1.0968 - val_accuracy: 0.3817\n",
      "94/94 [==============================] - 0s 3ms/step - loss: 0.9594 - accuracy: 0.8947\n",
      "Epoch 1/10\n",
      "113/113 [==============================] - 6s 52ms/step - loss: 1.0989 - accuracy: 0.3597 - val_loss: 1.0966 - val_accuracy: 0.3528\n",
      "Epoch 2/10\n",
      "113/113 [==============================] - 5s 48ms/step - loss: 1.0937 - accuracy: 0.3746 - val_loss: 1.0946 - val_accuracy: 0.3803\n",
      "Epoch 3/10\n",
      "113/113 [==============================] - 6s 52ms/step - loss: 1.0932 - accuracy: 0.3821 - val_loss: 1.0939 - val_accuracy: 0.3797\n",
      "Epoch 4/10\n",
      "113/113 [==============================] - 6s 50ms/step - loss: 1.0916 - accuracy: 0.3869 - val_loss: 1.0938 - val_accuracy: 0.3819\n",
      "Epoch 5/10\n",
      "113/113 [==============================] - 5s 45ms/step - loss: 1.0907 - accuracy: 0.3902 - val_loss: 1.0945 - val_accuracy: 0.3833\n",
      "Epoch 6/10\n",
      "113/113 [==============================] - 5s 44ms/step - loss: 1.0917 - accuracy: 0.3894 - val_loss: 1.0940 - val_accuracy: 0.3853\n",
      "Epoch 7/10\n",
      "113/113 [==============================] - 6s 53ms/step - loss: 1.0905 - accuracy: 0.3919 - val_loss: 1.0944 - val_accuracy: 0.3844\n",
      "Epoch 8/10\n",
      "113/113 [==============================] - 6s 54ms/step - loss: 1.0906 - accuracy: 0.3947 - val_loss: 1.0967 - val_accuracy: 0.3825\n",
      "Epoch 9/10\n",
      "113/113 [==============================] - 5s 47ms/step - loss: 1.0907 - accuracy: 0.3924 - val_loss: 1.0944 - val_accuracy: 0.3828\n",
      "Epoch 10/10\n",
      "113/113 [==============================] - 6s 51ms/step - loss: 1.0902 - accuracy: 0.3913 - val_loss: 1.0943 - val_accuracy: 0.3889\n",
      "94/94 [==============================] - 0s 3ms/step - loss: 0.9710 - accuracy: 0.8920\n"
     ]
    }
   ],
   "source": [
    "#MNIST0.6 fit\n",
    "mean_2 = []\n",
    "mean_TM_2 = []\n",
    "mean_EM_2 = []\n",
    "times = 5\n",
    "for i in range(times):\n",
    "    cnn_mnist2 = CNN_Model2()\n",
    "    batch_size = 128\n",
    "    epochs = 15\n",
    "\n",
    "    cnn_mnist2.compile(loss=\"categorical_crossentropy\", optimizer=\"rmsprop\", metrics=[\"accuracy\"])\n",
    "\n",
    "    history2 = cnn_mnist2.fit(x_train_mnist2, y_train_mnist2, batch_size=batch_size, epochs=epochs, validation_split=0.2)\n",
    "    \n",
    "    #直接跑\n",
    "    score2 = cnn_mnist2.evaluate(x_test_mnist2, y_test_mnist2)\n",
    "    \n",
    "    mean_2.append(score2[1])\n",
    "    \n",
    "    #TM\n",
    "    acc2_TM = cal_acc(matrix_MN6, cnn_mnist2, x_test_mnist2, y_test_mnist2_1)\n",
    "    mean_TM_2.append(acc2_TM)\n",
    "    \n",
    "    #EM\n",
    "    matrix2 = matrix_inv(cnn_mnist2, x_train_mnist2, y_train_mnist2_1)\n",
    "    \n",
    "    acc2_EM = cal_acc(matrix2, cnn_mnist2, x_test_mnist2, y_test_mnist2_1)\n",
    "    \n",
    "    mean_EM_2.append(acc2_EM)\n",
    "\n"
   ]
  },
  {
   "cell_type": "markdown",
   "metadata": {},
   "source": [
    "### 5.2.2 Estimate Transition Matrix"
   ]
  },
  {
   "cell_type": "code",
   "execution_count": 28,
   "metadata": {},
   "outputs": [
    {
     "data": {
      "text/plain": [
       "array([[0.36566667, 0.2795    , 0.35483333],\n",
       "       [0.2725    , 0.38316667, 0.34433333],\n",
       "       [0.2695    , 0.28316667, 0.44733333]])"
      ]
     },
     "execution_count": 28,
     "metadata": {},
     "output_type": "execute_result"
    }
   ],
   "source": [
    "matrix2 = matrix_inv(cnn_mnist2, x_train_mnist2, y_train_mnist2_1)\n",
    "matrix2"
   ]
  },
  {
   "cell_type": "markdown",
   "metadata": {},
   "source": [
    "### 5.2.3 Calculate the Mean and STD"
   ]
  },
  {
   "cell_type": "code",
   "execution_count": 31,
   "metadata": {},
   "outputs": [
    {
     "name": "stdout",
     "output_type": "stream",
     "text": [
      "Mean accuracy of directly CNN is: 89.26%  STD is : 0.009546136582807655\n",
      "Mean accuracy of Transition Matrix is: 89.26%  STD is : 0.009546145237156675\n",
      "Mean accuracy of Estimated Transition Matrix is: 89.28%  STD is : 0.007219110440736831\n"
     ]
    }
   ],
   "source": [
    "##Mean and std\n",
    "print(\"Mean accuracy of directly CNN is: {:.2f}%\".format(np.array(mean_2).mean()*100),\" STD is :\",np.array(mean_2).std())\n",
    "print(\"Mean accuracy of Transition Matrix is: {:.2f}%\".format(np.array(mean_TM_2).mean()*100),\" STD is :\",np.array(mean_TM_2).std())\n",
    "print(\"Mean accuracy of Estimated Transition Matrix is: {:.2f}%\".format(np.array(mean_EM_2).mean()*100),\" STD is :\",np.array(mean_EM_2).std())"
   ]
  },
  {
   "cell_type": "markdown",
   "metadata": {},
   "source": [
    "### 5.2.4 Comparison Charts"
   ]
  },
  {
   "cell_type": "code",
   "execution_count": 32,
   "metadata": {},
   "outputs": [
    {
     "data": {
      "image/png": "[encoded data removed]",
      "text/plain": [
       "<Figure size 432x288 with 1 Axes>"
      ]
     },
     "metadata": {
      "needs_background": "light"
     },
     "output_type": "display_data"
    },
    {
     "data": {
      "image/png": "[encoded data removed]",
      "text/plain": [
       "<Figure size 432x288 with 1 Axes>"
      ]
     },
     "metadata": {
      "needs_background": "light"
     },
     "output_type": "display_data"
    }
   ],
   "source": [
    "#Graph of directly CNN accuracy and Estimated Transition Matrix accuracy\n",
    "plt.title(\"CNN accuracy,True TM accuracy and Estimated TM accuracy\")\n",
    "plt.plot(mean_2, label='accuracy')\n",
    "plt.plot(mean_TM_2, label = 'TTM_accuracy')\n",
    "plt.plot(mean_EM_2, label = 'ETM_accuracy')\n",
    "plt.xlabel('Epoch')\n",
    "plt.ylabel('Accuracy')\n",
    "plt.ylim([0.85, 0.92])\n",
    "plt.legend(loc='lower right')\n",
    "plt.show()\n",
    "\n",
    "#Graph of train accuracy and val-accuracy\n",
    "plt.title(\"train accuracy and val-accuracy\")\n",
    "plt.plot(history2.history['accuracy'], label='train_accuracy')\n",
    "plt.plot(history2.history['val_accuracy'], label = 'val_accuracy')\n",
    "plt.xlabel('Epoch')\n",
    "plt.ylabel('Accuracy')\n",
    "plt.ylim([0, 0.6])\n",
    "plt.legend(loc='lower right')\n",
    "plt.show()\n",
    "# test_loss, test_acc = cnn_mnist.evaluate(x_test_mnist,  y_test_mnist, verbose=2)"
   ]
  },
  {
   "cell_type": "markdown",
   "metadata": {},
   "source": [
    "## 5.3 CIFAR"
   ]
  },
  {
   "cell_type": "code",
   "execution_count": 17,
   "metadata": {
    "scrolled": true
   },
   "outputs": [
    {
     "name": "stdout",
     "output_type": "stream",
     "text": [
      "Epoch 1/15\n",
      "47/47 [==============================] - 6s 137ms/step - loss: 1.1029 - accuracy: 0.3330 - val_loss: 1.0984 - val_accuracy: 0.3540\n",
      "Epoch 2/15\n",
      "47/47 [==============================] - 6s 136ms/step - loss: 1.0985 - accuracy: 0.3360 - val_loss: 1.0975 - val_accuracy: 0.3703\n",
      "Epoch 3/15\n",
      "47/47 [==============================] - 6s 133ms/step - loss: 1.0979 - accuracy: 0.3388 - val_loss: 1.0966 - val_accuracy: 0.3543\n",
      "Epoch 4/15\n",
      "47/47 [==============================] - 6s 136ms/step - loss: 1.0975 - accuracy: 0.3506 - val_loss: 1.0951 - val_accuracy: 0.3597\n",
      "Epoch 5/15\n",
      "47/47 [==============================] - 6s 133ms/step - loss: 1.0954 - accuracy: 0.3640 - val_loss: 1.0943 - val_accuracy: 0.3590\n",
      "Epoch 6/15\n",
      "47/47 [==============================] - 7s 140ms/step - loss: 1.0958 - accuracy: 0.3610 - val_loss: 1.0935 - val_accuracy: 0.3830\n",
      "Epoch 7/15\n",
      "47/47 [==============================] - 7s 142ms/step - loss: 1.0933 - accuracy: 0.3722 - val_loss: 1.1001 - val_accuracy: 0.3413\n",
      "Epoch 8/15\n",
      "47/47 [==============================] - 6s 137ms/step - loss: 1.0920 - accuracy: 0.3732 - val_loss: 1.0920 - val_accuracy: 0.3667\n",
      "Epoch 9/15\n",
      "47/47 [==============================] - 7s 143ms/step - loss: 1.0919 - accuracy: 0.3748 - val_loss: 1.0935 - val_accuracy: 0.3640\n",
      "Epoch 10/15\n",
      "47/47 [==============================] - 6s 138ms/step - loss: 1.0907 - accuracy: 0.3787 - val_loss: 1.0914 - val_accuracy: 0.3747\n",
      "Epoch 11/15\n",
      "47/47 [==============================] - 7s 140ms/step - loss: 1.0912 - accuracy: 0.3782 - val_loss: 1.0940 - val_accuracy: 0.3727\n",
      "Epoch 12/15\n",
      "47/47 [==============================] - 7s 141ms/step - loss: 1.0896 - accuracy: 0.3783 - val_loss: 1.0918 - val_accuracy: 0.3777\n",
      "Epoch 13/15\n",
      "47/47 [==============================] - 7s 142ms/step - loss: 1.0893 - accuracy: 0.3800 - val_loss: 1.0914 - val_accuracy: 0.3780\n",
      "Epoch 14/15\n",
      "47/47 [==============================] - 7s 142ms/step - loss: 1.0899 - accuracy: 0.3795 - val_loss: 1.0919 - val_accuracy: 0.3723\n",
      "Epoch 15/15\n",
      "47/47 [==============================] - 7s 145ms/step - loss: 1.0863 - accuracy: 0.3865 - val_loss: 1.0922 - val_accuracy: 0.3677\n",
      "94/94 [==============================] - 0s 5ms/step - loss: 1.0337 - accuracy: 0.5700\n",
      "Epoch 1/15\n",
      "47/47 [==============================] - 7s 141ms/step - loss: 1.1002 - accuracy: 0.3454 - val_loss: 1.0973 - val_accuracy: 0.3317\n",
      "Epoch 2/15\n",
      "47/47 [==============================] - 7s 141ms/step - loss: 1.0977 - accuracy: 0.3483 - val_loss: 1.0959 - val_accuracy: 0.3700\n",
      "Epoch 3/15\n",
      "47/47 [==============================] - 7s 140ms/step - loss: 1.0952 - accuracy: 0.3614 - val_loss: 1.0949 - val_accuracy: 0.3763\n",
      "Epoch 4/15\n",
      "47/47 [==============================] - 7s 141ms/step - loss: 1.0956 - accuracy: 0.3608 - val_loss: 1.0961 - val_accuracy: 0.3640\n",
      "Epoch 5/15\n",
      "47/47 [==============================] - 6s 138ms/step - loss: 1.0935 - accuracy: 0.3681 - val_loss: 1.0953 - val_accuracy: 0.3533\n",
      "Epoch 6/15\n",
      "47/47 [==============================] - 7s 141ms/step - loss: 1.0938 - accuracy: 0.3658 - val_loss: 1.0928 - val_accuracy: 0.3790\n",
      "Epoch 7/15\n",
      "47/47 [==============================] - 7s 142ms/step - loss: 1.0917 - accuracy: 0.3740 - val_loss: 1.0922 - val_accuracy: 0.3713\n",
      "Epoch 8/15\n",
      "47/47 [==============================] - 6s 138ms/step - loss: 1.0923 - accuracy: 0.3695 - val_loss: 1.0928 - val_accuracy: 0.3667\n",
      "Epoch 9/15\n",
      "47/47 [==============================] - 7s 141ms/step - loss: 1.0904 - accuracy: 0.3800 - val_loss: 1.0933 - val_accuracy: 0.3873\n",
      "Epoch 10/15\n",
      "47/47 [==============================] - 7s 141ms/step - loss: 1.0887 - accuracy: 0.3816 - val_loss: 1.0904 - val_accuracy: 0.3793\n",
      "Epoch 11/15\n",
      "47/47 [==============================] - 7s 143ms/step - loss: 1.0886 - accuracy: 0.3850 - val_loss: 1.0895 - val_accuracy: 0.3737\n",
      "Epoch 12/15\n",
      "47/47 [==============================] - 7s 143ms/step - loss: 1.0886 - accuracy: 0.3833 - val_loss: 1.0905 - val_accuracy: 0.3837\n",
      "Epoch 13/15\n",
      "47/47 [==============================] - 7s 141ms/step - loss: 1.0865 - accuracy: 0.3858 - val_loss: 1.0898 - val_accuracy: 0.3747\n",
      "Epoch 14/15\n",
      "47/47 [==============================] - 7s 140ms/step - loss: 1.0875 - accuracy: 0.3828 - val_loss: 1.0922 - val_accuracy: 0.3850\n",
      "Epoch 15/15\n",
      "47/47 [==============================] - 7s 150ms/step - loss: 1.0850 - accuracy: 0.3869 - val_loss: 1.0927 - val_accuracy: 0.3773\n",
      "94/94 [==============================] - 0s 5ms/step - loss: 1.0213 - accuracy: 0.6497\n",
      "Epoch 1/15\n",
      "47/47 [==============================] - 7s 153ms/step - loss: 1.1001 - accuracy: 0.3389 - val_loss: 1.0982 - val_accuracy: 0.3333\n",
      "Epoch 2/15\n",
      "47/47 [==============================] - 7s 154ms/step - loss: 1.0980 - accuracy: 0.3480 - val_loss: 1.0961 - val_accuracy: 0.3547\n",
      "Epoch 3/15\n",
      "47/47 [==============================] - 6s 138ms/step - loss: 1.0966 - accuracy: 0.3550 - val_loss: 1.0962 - val_accuracy: 0.3397\n",
      "Epoch 4/15\n",
      "47/47 [==============================] - 6s 133ms/step - loss: 1.0946 - accuracy: 0.3638 - val_loss: 1.0939 - val_accuracy: 0.3677\n",
      "Epoch 5/15\n",
      "47/47 [==============================] - 6s 131ms/step - loss: 1.0948 - accuracy: 0.3710 - val_loss: 1.0926 - val_accuracy: 0.3780\n",
      "Epoch 6/15\n",
      "47/47 [==============================] - 6s 129ms/step - loss: 1.0928 - accuracy: 0.3746 - val_loss: 1.0914 - val_accuracy: 0.3767\n",
      "Epoch 7/15\n",
      "47/47 [==============================] - 6s 123ms/step - loss: 1.0930 - accuracy: 0.3762 - val_loss: 1.0928 - val_accuracy: 0.3760\n",
      "Epoch 8/15\n",
      "47/47 [==============================] - 6s 118ms/step - loss: 1.0916 - accuracy: 0.3769 - val_loss: 1.0911 - val_accuracy: 0.3750\n",
      "Epoch 9/15\n",
      "47/47 [==============================] - 6s 120ms/step - loss: 1.0903 - accuracy: 0.3738 - val_loss: 1.0918 - val_accuracy: 0.3643\n",
      "Epoch 10/15\n",
      "47/47 [==============================] - 6s 122ms/step - loss: 1.0902 - accuracy: 0.3798 - val_loss: 1.0908 - val_accuracy: 0.3810\n",
      "Epoch 11/15\n",
      "47/47 [==============================] - 6s 120ms/step - loss: 1.0901 - accuracy: 0.3758 - val_loss: 1.0897 - val_accuracy: 0.3860\n",
      "Epoch 12/15\n",
      "47/47 [==============================] - 6s 121ms/step - loss: 1.0886 - accuracy: 0.3792 - val_loss: 1.0913 - val_accuracy: 0.3730\n",
      "Epoch 13/15\n",
      "47/47 [==============================] - 6s 122ms/step - loss: 1.0878 - accuracy: 0.3800 - val_loss: 1.0921 - val_accuracy: 0.3753\n",
      "Epoch 14/15\n",
      "47/47 [==============================] - 6s 121ms/step - loss: 1.0889 - accuracy: 0.3836 - val_loss: 1.0907 - val_accuracy: 0.3777\n",
      "Epoch 15/15\n",
      "47/47 [==============================] - 6s 120ms/step - loss: 1.0858 - accuracy: 0.3909 - val_loss: 1.0897 - val_accuracy: 0.3790\n",
      "94/94 [==============================] - 0s 3ms/step - loss: 1.0170 - accuracy: 0.6520\n",
      "Epoch 1/15\n",
      "47/47 [==============================] - 6s 131ms/step - loss: 1.1026 - accuracy: 0.3332 - val_loss: 1.0985 - val_accuracy: 0.3297\n",
      "Epoch 2/15\n",
      "47/47 [==============================] - 6s 127ms/step - loss: 1.0985 - accuracy: 0.3343 - val_loss: 1.0972 - val_accuracy: 0.3713\n",
      "Epoch 3/15\n",
      "47/47 [==============================] - 6s 127ms/step - loss: 1.0972 - accuracy: 0.3498 - val_loss: 1.1004 - val_accuracy: 0.3357\n",
      "Epoch 4/15\n",
      "47/47 [==============================] - 6s 127ms/step - loss: 1.0971 - accuracy: 0.3487 - val_loss: 1.0953 - val_accuracy: 0.3743\n",
      "Epoch 5/15\n",
      "47/47 [==============================] - 6s 126ms/step - loss: 1.0956 - accuracy: 0.3623 - val_loss: 1.0937 - val_accuracy: 0.3760\n",
      "Epoch 6/15\n",
      "47/47 [==============================] - 6s 129ms/step - loss: 1.0942 - accuracy: 0.3638 - val_loss: 1.0942 - val_accuracy: 0.3670\n",
      "Epoch 7/15\n",
      "47/47 [==============================] - 6s 128ms/step - loss: 1.0937 - accuracy: 0.3654 - val_loss: 1.0929 - val_accuracy: 0.3670\n",
      "Epoch 8/15\n",
      "47/47 [==============================] - 6s 128ms/step - loss: 1.0948 - accuracy: 0.3663 - val_loss: 1.0929 - val_accuracy: 0.3783\n",
      "Epoch 9/15\n",
      "47/47 [==============================] - 6s 129ms/step - loss: 1.0930 - accuracy: 0.3714 - val_loss: 1.0927 - val_accuracy: 0.3703\n",
      "Epoch 10/15\n",
      "47/47 [==============================] - 6s 129ms/step - loss: 1.0932 - accuracy: 0.3705 - val_loss: 1.0927 - val_accuracy: 0.3857\n",
      "Epoch 11/15\n",
      "47/47 [==============================] - 6s 127ms/step - loss: 1.0913 - accuracy: 0.3722 - val_loss: 1.0912 - val_accuracy: 0.3807\n"
     ]
    },
    {
     "name": "stdout",
     "output_type": "stream",
     "text": [
      "Epoch 12/15\n",
      "47/47 [==============================] - 6s 128ms/step - loss: 1.0914 - accuracy: 0.3765 - val_loss: 1.0916 - val_accuracy: 0.3713\n",
      "Epoch 13/15\n",
      "47/47 [==============================] - 6s 127ms/step - loss: 1.0890 - accuracy: 0.3812 - val_loss: 1.0903 - val_accuracy: 0.3790\n",
      "Epoch 14/15\n",
      "47/47 [==============================] - 6s 127ms/step - loss: 1.0889 - accuracy: 0.3808 - val_loss: 1.0907 - val_accuracy: 0.3633\n",
      "Epoch 15/15\n",
      "47/47 [==============================] - 6s 126ms/step - loss: 1.0876 - accuracy: 0.3845 - val_loss: 1.0913 - val_accuracy: 0.3607\n",
      "94/94 [==============================] - 0s 4ms/step - loss: 1.0306 - accuracy: 0.6227\n",
      "Epoch 1/15\n",
      "47/47 [==============================] - 7s 146ms/step - loss: 1.1012 - accuracy: 0.3313 - val_loss: 1.0976 - val_accuracy: 0.3653\n",
      "Epoch 2/15\n",
      "47/47 [==============================] - 8s 161ms/step - loss: 1.0972 - accuracy: 0.3518 - val_loss: 1.0965 - val_accuracy: 0.3513\n",
      "Epoch 3/15\n",
      "47/47 [==============================] - 7s 150ms/step - loss: 1.0964 - accuracy: 0.3573 - val_loss: 1.0952 - val_accuracy: 0.3710\n",
      "Epoch 4/15\n",
      "47/47 [==============================] - 7s 150ms/step - loss: 1.0973 - accuracy: 0.3586 - val_loss: 1.0958 - val_accuracy: 0.3627\n",
      "Epoch 5/15\n",
      "47/47 [==============================] - 6s 138ms/step - loss: 1.0942 - accuracy: 0.3670 - val_loss: 1.0933 - val_accuracy: 0.3687\n",
      "Epoch 6/15\n",
      "47/47 [==============================] - 6s 135ms/step - loss: 1.0940 - accuracy: 0.3713 - val_loss: 1.0951 - val_accuracy: 0.3573\n",
      "Epoch 7/15\n",
      "47/47 [==============================] - 6s 136ms/step - loss: 1.0932 - accuracy: 0.3711 - val_loss: 1.0950 - val_accuracy: 0.3667\n",
      "Epoch 8/15\n",
      "47/47 [==============================] - 6s 135ms/step - loss: 1.0911 - accuracy: 0.3775 - val_loss: 1.0903 - val_accuracy: 0.3727\n",
      "Epoch 9/15\n",
      "47/47 [==============================] - 6s 135ms/step - loss: 1.0910 - accuracy: 0.3789 - val_loss: 1.0945 - val_accuracy: 0.3740\n",
      "Epoch 10/15\n",
      "47/47 [==============================] - 6s 135ms/step - loss: 1.0922 - accuracy: 0.3776 - val_loss: 1.0912 - val_accuracy: 0.3797\n",
      "Epoch 11/15\n",
      "47/47 [==============================] - 6s 136ms/step - loss: 1.0901 - accuracy: 0.3774 - val_loss: 1.0902 - val_accuracy: 0.3863\n",
      "Epoch 12/15\n",
      "47/47 [==============================] - 7s 138ms/step - loss: 1.0884 - accuracy: 0.3868 - val_loss: 1.0897 - val_accuracy: 0.3827\n",
      "Epoch 13/15\n",
      "47/47 [==============================] - 7s 138ms/step - loss: 1.0896 - accuracy: 0.3786 - val_loss: 1.0897 - val_accuracy: 0.3723\n",
      "Epoch 14/15\n",
      "47/47 [==============================] - 6s 137ms/step - loss: 1.0897 - accuracy: 0.3766 - val_loss: 1.0905 - val_accuracy: 0.3760\n",
      "Epoch 15/15\n",
      "47/47 [==============================] - 6s 137ms/step - loss: 1.0877 - accuracy: 0.3842 - val_loss: 1.0912 - val_accuracy: 0.3847\n",
      "94/94 [==============================] - 0s 5ms/step - loss: 1.0258 - accuracy: 0.6320\n"
     ]
    }
   ],
   "source": [
    "#CIFAR fit\n",
    "mean_3 = []\n",
    "mean_EM_3 = []\n",
    "times = 5\n",
    "for i in range(times):\n",
    "    cnn_cifar = CNN_Model3()\n",
    "    batch_size = 128\n",
    "    epochs = 15\n",
    "\n",
    "    cnn_cifar.compile(loss=\"categorical_crossentropy\", optimizer=\"adam\", metrics=[\"accuracy\"])\n",
    "\n",
    "    history3 = cnn_cifar.fit(x_train_cifar, y_train_cifar, batch_size=batch_size, epochs=epochs, validation_split=0.2)\n",
    "    \n",
    "    score = cnn_cifar.evaluate(x_test_cifar, y_test_cifar)\n",
    "    \n",
    "    #直接跑\n",
    "    mean_3.append(score[1]) \n",
    "    #mean_3 = mean_3.sum/len(mean_3)\n",
    "    #print(\"CIFAR Test loss:\", score[0])\n",
    "    #print(\"CIFAR Test accuracy:\", score[1])\n",
    "    \n",
    "    #EM\n",
    "    matrix3 = matrix_inv(cnn_cifar, x_train_cifar, y_train_cifar_1)\n",
    "    \n",
    "    acc3 = cal_acc(matrix3, cnn_cifar, x_test_cifar, y_test_cifar_1)\n",
    "    \n",
    "    mean_EM_3.append(acc3)"
   ]
  },
  {
   "cell_type": "markdown",
   "metadata": {},
   "source": [
    "### 5.3.2 Estimate Transition Matrix"
   ]
  },
  {
   "cell_type": "code",
   "execution_count": 33,
   "metadata": {},
   "outputs": [
    {
     "data": {
      "text/plain": [
       "array([[0.1806, 0.3646, 0.4548],\n",
       "       [0.1402, 0.4704, 0.3894],\n",
       "       [0.1242, 0.3474, 0.5284]])"
      ]
     },
     "execution_count": 33,
     "metadata": {},
     "output_type": "execute_result"
    }
   ],
   "source": [
    "matrix3_1 = matrix_inv(cnn_cifar, x_train_cifar, y_train_cifar_1)\n",
    "matrix3_1"
   ]
  },
  {
   "cell_type": "markdown",
   "metadata": {},
   "source": [
    "### 5.3.3 Calculate the Mean and STD"
   ]
  },
  {
   "cell_type": "code",
   "execution_count": 18,
   "metadata": {},
   "outputs": [
    {
     "name": "stdout",
     "output_type": "stream",
     "text": [
      "Mean accuracy of directly VGG is: 62.53%  STD is : 0.029720481547106898\n",
      "Mean accuracy of Estimated Transition Matrix is: 67.23%  STD is : 0.05871248211032775\n"
     ]
    }
   ],
   "source": [
    "##Mean and std\n",
    "print(\"Mean accuracy of directly VGG is: {:.2f}%\".format(np.array(mean_3).mean()*100),\" STD is :\",np.array(mean_3).std())\n",
    "print(\"Mean accuracy of Estimated Transition Matrix is: {:.2f}%\".format(np.array(mean_EM_3).mean()*100),\" STD is :\",np.array(mean_EM_3).std())"
   ]
  },
  {
   "cell_type": "markdown",
   "metadata": {},
   "source": [
    "### 5.3.4 Comparison Charts"
   ]
  },
  {
   "cell_type": "code",
   "execution_count": 19,
   "metadata": {},
   "outputs": [
    {
     "data": {
      "image/png": "[encoded data removed]",
      "text/plain": [
       "<Figure size 432x288 with 1 Axes>"
      ]
     },
     "metadata": {
      "needs_background": "light"
     },
     "output_type": "display_data"
    },
    {
     "data": {
      "image/png": "[encoded data removed]",
      "text/plain": [
       "<Figure size 432x288 with 1 Axes>"
      ]
     },
     "metadata": {
      "needs_background": "light"
     },
     "output_type": "display_data"
    }
   ],
   "source": [
    "#Graph of directly CNN accuracy and Estimated Transition Matrix accuracy\n",
    "plt.title(\"CNN accuracy,True TM accuracy and Estimated TM accuracy\")\n",
    "plt.plot(mean_3, label='accuracy')\n",
    "plt.plot(mean_EM_3, label = 'ETM_accuracy')\n",
    "plt.xlabel('Epoch')\n",
    "plt.ylabel('Accuracy')\n",
    "plt.ylim([0.4, 0.8])\n",
    "plt.legend(loc='lower right')\n",
    "plt.show()\n",
    "\n",
    "#Graph of train accuracy and val-accuracy\n",
    "plt.title(\"train accuracy and val-accuracy\")\n",
    "plt.plot(history3.history['accuracy'], label='train_accuracy')\n",
    "plt.plot(history3.history['val_accuracy'], label = 'val_accuracy')\n",
    "plt.xlabel('Epoch')\n",
    "plt.ylabel('Accuracy')\n",
    "plt.ylim([0, 0.6])\n",
    "plt.legend(loc='lower right')\n",
    "plt.show()\n",
    "# test_loss, test_acc = cnn_mnist.evaluate(x_test_mnist,  y_test_mnist, verbose=2)"
   ]
  },
  {
   "cell_type": "code",
   "execution_count": null,
   "metadata": {},
   "outputs": [],
   "source": []
  }
 ],
 "metadata": {
  "kernelspec": {
   "display_name": "Python 3",
   "language": "python",
   "name": "python3"
  },
  "language_info": {
   "codemirror_mode": {
    "name": "ipython",
    "version": 3
   },
   "file_extension": ".py",
   "mimetype": "text/x-python",
   "name": "python",
   "nbconvert_exporter": "python",
   "pygments_lexer": "ipython3",
   "version": "3.7.4"
  }
 },
 "nbformat": 4,
 "nbformat_minor": 2
}
