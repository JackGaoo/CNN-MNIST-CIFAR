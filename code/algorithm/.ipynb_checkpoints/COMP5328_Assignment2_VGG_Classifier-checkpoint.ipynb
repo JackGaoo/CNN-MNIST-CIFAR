{
 "cells": [
  {
   "cell_type": "markdown",
   "metadata": {},
   "source": [
    "# COMP5328-A2-VGG"
   ]
  },
  {
   "cell_type": "markdown",
   "metadata": {},
   "source": [
    "## 1. Import libraries"
   ]
  },
  {
   "cell_type": "code",
   "execution_count": 1,
   "metadata": {},
   "outputs": [],
   "source": [
    "from __future__ import print_function\n",
    "\n",
    "import numpy as np\n",
    "import matplotlib.pyplot as plt\n",
    "%matplotlib inline\n",
    "from collections import Counter\n",
    "import tensorflow.keras\n",
    "from tensorflow.keras.models import Sequential\n",
    "from tensorflow.keras.utils import to_categorical\n",
    "from tensorflow.keras.layers import Dense, Conv2D, MaxPooling2D, Dropout, Flatten"
   ]
  },
  {
   "cell_type": "markdown",
   "metadata": {},
   "source": [
    "## 2. Data-preprocessing"
   ]
  },
  {
   "cell_type": "code",
   "execution_count": 2,
   "metadata": {
    "scrolled": true
   },
   "outputs": [
    {
     "name": "stdout",
     "output_type": "stream",
     "text": [
      "Training data shape :  (18000, 28, 28, 1) (18000,)\n",
      "Testing data shape :  (3000, 28, 28, 1) (3000,)\n",
      "Training data shape :  (18000, 28, 28, 1) (18000,)\n",
      "Testing data shape :  (3000, 28, 28, 1) (3000,)\n",
      "Training data shape :  (15000, 32, 32, 3) (15000,)\n",
      "Testing data shape :  (3000, 32, 32, 3) (3000,)\n",
      "Total number of outputs :  3\n",
      "Output classes :  [0 1 2]\n",
      "Total number of outputs :  3\n",
      "Output classes :  [0 1 2]\n",
      "Total number of outputs :  3\n",
      "Output classes :  [0 1 2]\n"
     ]
    }
   ],
   "source": [
    "##Load the datasets\n",
    "#MNIST0.5\n",
    "def load_data_FashionMNIST0_5():\n",
    "\n",
    "    dataset_mnist = np.load('../data/FashionMNIST0.5.npz')\n",
    "\n",
    "    Xtr_mnist = dataset_mnist['Xtr']\n",
    "    Str_mnist = dataset_mnist['Str']\n",
    "    Xts_mnist = dataset_mnist['Xts']\n",
    "    Yts_mnist = dataset_mnist['Yts']\n",
    "    \n",
    "\n",
    "\n",
    "    return Xtr_mnist, Str_mnist, Xts_mnist, Yts_mnist\n",
    "#MNIST0.6\n",
    "def load_data_FashionMNIST0_6():\n",
    "    \n",
    "    dataset_mnist2 = np.load('../data/FashionMNIST0.6.npz')\n",
    "\n",
    "    \n",
    "    Xtr_mnist2 = dataset_mnist2['Xtr']\n",
    "    Str_mnist2= dataset_mnist2['Str']\n",
    "    Xts_mnist2 = dataset_mnist2['Xts']\n",
    "    Yts_mnist2 = dataset_mnist2['Yts']\n",
    "\n",
    "\n",
    "    return Xtr_mnist2, Str_mnist2, Xts_mnist2, Yts_mnist2\n",
    "#CIFAR\n",
    "def load_data_CIFAR():\n",
    "\n",
    "    dataset_cifar = np.load('../data/CIFAR.npz')\n",
    "\n",
    "\n",
    "    Xtr_cifar = dataset_cifar['Xtr']\n",
    "    Str_cifar = dataset_cifar['Str']\n",
    "    Xts_cifar = dataset_cifar['Xts']\n",
    "    Yts_cifar = dataset_cifar['Yts']\n",
    "\n",
    "    return Xtr_cifar, Str_cifar, Xts_cifar, Yts_cifar\n",
    "\n",
    "#Give parameters to different dataset\n",
    "train_images, train_labels, test_images, test_labels = load_data_FashionMNIST0_5()\n",
    "\n",
    "train_images2, train_labels2, test_images2, test_labels2 = load_data_FashionMNIST0_6()\n",
    "\n",
    "train_images3, train_labels3, test_images3, test_labels3 = load_data_CIFAR()\n",
    "\n",
    "train_images = train_images.reshape(-1,28,28,1)\n",
    "test_images = test_images.reshape(-1,28,28,1)\n",
    "\n",
    "train_images2 = train_images2.reshape(-1,28,28,1)\n",
    "test_images2 = test_images2.reshape(-1,28,28,1)\n",
    "\n",
    "#print the shape of train and test data\n",
    "print('Training data shape : ', train_images.reshape(-1,28,28,1).shape, train_labels.shape)\n",
    "print('Testing data shape : ', test_images.reshape(-1,28,28,1).shape, test_labels.shape)\n",
    "\n",
    "print('Training data shape : ', train_images2.shape, train_labels2.shape)\n",
    "print('Testing data shape : ', test_images2.shape, test_labels2.shape)\n",
    "\n",
    "print('Training data shape : ', train_images3.shape, train_labels3.shape)\n",
    "print('Testing data shape : ', test_images3.shape, test_labels3.shape)\n",
    "\n",
    "# Find the unique numbers from the train labels\n",
    "classes = np.unique(train_labels)\n",
    "nClasses = len(classes)\n",
    "print('Total number of outputs : ', nClasses)\n",
    "print('Output classes : ', classes)\n",
    "\n",
    "classes2 = np.unique(train_labels2)\n",
    "nClasses2 = len(classes)\n",
    "print('Total number of outputs : ', nClasses2)\n",
    "print('Output classes : ', classes2)\n",
    "\n",
    "classes3 = np.unique(train_labels3)\n",
    "nClasses3 = len(classes)\n",
    "print('Total number of outputs : ', nClasses3)\n",
    "print('Output classes : ', classes3)\n",
    "\n"
   ]
  },
  {
   "cell_type": "markdown",
   "metadata": {},
   "source": [
    "## 2.1 One-hot coding"
   ]
  },
  {
   "cell_type": "code",
   "execution_count": 62,
   "metadata": {},
   "outputs": [
    {
     "name": "stdout",
     "output_type": "stream",
     "text": [
      "Original label 0 :  2\n",
      "After conversion to categorical ( one-hot ) :  [0. 0. 1.]\n"
     ]
    }
   ],
   "source": [
    "nRows,nCols,nDims = train_images.shape[1:]\n",
    "train_data = train_images.reshape(train_images.shape[0], nRows, nCols, nDims)\n",
    "test_data = test_images.reshape(test_images.shape[0], nRows, nCols, nDims)\n",
    "input_shape = (nRows, nCols, nDims)\n",
    "\n",
    "train_data = train_data.astype('float32')\n",
    "test_data = test_data.astype('float32')\n",
    "\n",
    "train_data /= 255\n",
    "test_data /= 255\n",
    "\n",
    "train_labels_one_hot = to_categorical(train_labels)\n",
    "test_labels_one_hot = to_categorical(test_labels)\n",
    "\n",
    "print('Original label 0 : ', train_labels[0])\n",
    "print('After conversion to categorical ( one-hot ) : ', train_labels_one_hot[0])"
   ]
  },
  {
   "cell_type": "code",
   "execution_count": 63,
   "metadata": {},
   "outputs": [
    {
     "name": "stdout",
     "output_type": "stream",
     "text": [
      "Original label 0 :  2\n",
      "After conversion to categorical ( one-hot ) :  [1. 0. 0.]\n"
     ]
    }
   ],
   "source": [
    "nRows2,nCols2,nDims2 = train_images2.shape[1:]\n",
    "train_data2 = train_images2.reshape(train_images2.shape[0], nRows2, nCols2, nDims2)\n",
    "test_data2 = test_images.reshape(test_images2.shape[0], nRows2, nCols2, nDims2)\n",
    "input_shape2 = (nRows, nCols, nDims)\n",
    "\n",
    "train_data2 = train_data2.astype('float32')\n",
    "test_data2 = test_data2.astype('float32')\n",
    "\n",
    "train_data2 /= 255\n",
    "test_data2 /= 255\n",
    "\n",
    "train_labels_one_hot2 = to_categorical(train_labels2)\n",
    "test_labels_one_hot2 = to_categorical(test_labels2)\n",
    "\n",
    "print('Original label 0 : ', train_labels[0])\n",
    "print('After conversion to categorical ( one-hot ) : ', train_labels_one_hot2[0])"
   ]
  },
  {
   "cell_type": "code",
   "execution_count": 64,
   "metadata": {},
   "outputs": [
    {
     "name": "stdout",
     "output_type": "stream",
     "text": [
      "Original label 0 :  1\n",
      "After conversion to categorical ( one-hot ) :  [0. 1. 0.]\n"
     ]
    }
   ],
   "source": [
    "nRows3,nCols3,nDims3 = train_images3.shape[1:]\n",
    "train_data3 = train_images3.reshape(train_images3.shape[0], nRows3, nCols3, nDims3)\n",
    "test_data3 = test_images3.reshape(test_images3.shape[0], nRows3, nCols3, nDims3)\n",
    "input_shape3 = (nRows3, nCols3, nDims3)\n",
    "\n",
    "train_data3 = train_data3.astype('float32')\n",
    "test_data3 = test_data3.astype('float32')\n",
    "\n",
    "train_data3 /= 255\n",
    "test_data3 /= 255\n",
    "\n",
    "train_labels_one_hot3 = to_categorical(train_labels3)\n",
    "test_labels_one_hot3 = to_categorical(test_labels3)\n",
    "\n",
    "print('Original label 0 : ', train_labels3[0])\n",
    "print('After conversion to categorical ( one-hot ) : ', train_labels_one_hot3[0])"
   ]
  },
  {
   "cell_type": "markdown",
   "metadata": {},
   "source": [
    "## 3. VGG Models"
   ]
  },
  {
   "cell_type": "code",
   "execution_count": 65,
   "metadata": {},
   "outputs": [
    {
     "name": "stdout",
     "output_type": "stream",
     "text": [
      "Model: \"sequential_76\"\n",
      "_________________________________________________________________\n",
      "Layer (type)                 Output Shape              Param #   \n",
      "=================================================================\n",
      "conv2d_456 (Conv2D)          (None, 28, 28, 32)        320       \n",
      "_________________________________________________________________\n",
      "conv2d_457 (Conv2D)          (None, 26, 26, 32)        9248      \n",
      "_________________________________________________________________\n",
      "max_pooling2d_228 (MaxPoolin (None, 13, 13, 32)        0         \n",
      "_________________________________________________________________\n",
      "dropout_304 (Dropout)        (None, 13, 13, 32)        0         \n",
      "_________________________________________________________________\n",
      "conv2d_458 (Conv2D)          (None, 13, 13, 64)        18496     \n",
      "_________________________________________________________________\n",
      "conv2d_459 (Conv2D)          (None, 11, 11, 64)        36928     \n",
      "_________________________________________________________________\n",
      "max_pooling2d_229 (MaxPoolin (None, 5, 5, 64)          0         \n",
      "_________________________________________________________________\n",
      "dropout_305 (Dropout)        (None, 5, 5, 64)          0         \n",
      "_________________________________________________________________\n",
      "conv2d_460 (Conv2D)          (None, 5, 5, 64)          36928     \n",
      "_________________________________________________________________\n",
      "conv2d_461 (Conv2D)          (None, 3, 3, 64)          36928     \n",
      "_________________________________________________________________\n",
      "max_pooling2d_230 (MaxPoolin (None, 1, 1, 64)          0         \n",
      "_________________________________________________________________\n",
      "dropout_306 (Dropout)        (None, 1, 1, 64)          0         \n",
      "_________________________________________________________________\n",
      "flatten_76 (Flatten)         (None, 64)                0         \n",
      "_________________________________________________________________\n",
      "dense_152 (Dense)            (None, 512)               33280     \n",
      "_________________________________________________________________\n",
      "dropout_307 (Dropout)        (None, 512)               0         \n",
      "_________________________________________________________________\n",
      "dense_153 (Dense)            (None, 3)                 1539      \n",
      "=================================================================\n",
      "Total params: 173,667\n",
      "Trainable params: 173,667\n",
      "Non-trainable params: 0\n",
      "_________________________________________________________________\n",
      "Model: \"sequential_77\"\n",
      "_________________________________________________________________\n",
      "Layer (type)                 Output Shape              Param #   \n",
      "=================================================================\n",
      "conv2d_462 (Conv2D)          (None, 28, 28, 32)        320       \n",
      "_________________________________________________________________\n",
      "conv2d_463 (Conv2D)          (None, 26, 26, 32)        9248      \n",
      "_________________________________________________________________\n",
      "max_pooling2d_231 (MaxPoolin (None, 13, 13, 32)        0         \n",
      "_________________________________________________________________\n",
      "dropout_308 (Dropout)        (None, 13, 13, 32)        0         \n",
      "_________________________________________________________________\n",
      "conv2d_464 (Conv2D)          (None, 13, 13, 64)        18496     \n",
      "_________________________________________________________________\n",
      "conv2d_465 (Conv2D)          (None, 11, 11, 64)        36928     \n",
      "_________________________________________________________________\n",
      "max_pooling2d_232 (MaxPoolin (None, 5, 5, 64)          0         \n",
      "_________________________________________________________________\n",
      "dropout_309 (Dropout)        (None, 5, 5, 64)          0         \n",
      "_________________________________________________________________\n",
      "conv2d_466 (Conv2D)          (None, 5, 5, 64)          36928     \n",
      "_________________________________________________________________\n",
      "conv2d_467 (Conv2D)          (None, 3, 3, 64)          36928     \n",
      "_________________________________________________________________\n",
      "max_pooling2d_233 (MaxPoolin (None, 1, 1, 64)          0         \n",
      "_________________________________________________________________\n",
      "dropout_310 (Dropout)        (None, 1, 1, 64)          0         \n",
      "_________________________________________________________________\n",
      "flatten_77 (Flatten)         (None, 64)                0         \n",
      "_________________________________________________________________\n",
      "dense_154 (Dense)            (None, 512)               33280     \n",
      "_________________________________________________________________\n",
      "dropout_311 (Dropout)        (None, 512)               0         \n",
      "_________________________________________________________________\n",
      "dense_155 (Dense)            (None, 3)                 1539      \n",
      "=================================================================\n",
      "Total params: 173,667\n",
      "Trainable params: 173,667\n",
      "Non-trainable params: 0\n",
      "_________________________________________________________________\n",
      "Model: \"sequential_78\"\n",
      "_________________________________________________________________\n",
      "Layer (type)                 Output Shape              Param #   \n",
      "=================================================================\n",
      "conv2d_468 (Conv2D)          (None, 32, 32, 32)        896       \n",
      "_________________________________________________________________\n",
      "conv2d_469 (Conv2D)          (None, 30, 30, 32)        9248      \n",
      "_________________________________________________________________\n",
      "max_pooling2d_234 (MaxPoolin (None, 15, 15, 32)        0         \n",
      "_________________________________________________________________\n",
      "dropout_312 (Dropout)        (None, 15, 15, 32)        0         \n",
      "_________________________________________________________________\n",
      "conv2d_470 (Conv2D)          (None, 15, 15, 64)        18496     \n",
      "_________________________________________________________________\n",
      "conv2d_471 (Conv2D)          (None, 13, 13, 64)        36928     \n",
      "_________________________________________________________________\n",
      "max_pooling2d_235 (MaxPoolin (None, 6, 6, 64)          0         \n",
      "_________________________________________________________________\n",
      "dropout_313 (Dropout)        (None, 6, 6, 64)          0         \n",
      "_________________________________________________________________\n",
      "conv2d_472 (Conv2D)          (None, 6, 6, 64)          36928     \n",
      "_________________________________________________________________\n",
      "conv2d_473 (Conv2D)          (None, 4, 4, 64)          36928     \n",
      "_________________________________________________________________\n",
      "max_pooling2d_236 (MaxPoolin (None, 2, 2, 64)          0         \n",
      "_________________________________________________________________\n",
      "dropout_314 (Dropout)        (None, 2, 2, 64)          0         \n",
      "_________________________________________________________________\n",
      "flatten_78 (Flatten)         (None, 256)               0         \n",
      "_________________________________________________________________\n",
      "dense_156 (Dense)            (None, 512)               131584    \n",
      "_________________________________________________________________\n",
      "dropout_315 (Dropout)        (None, 512)               0         \n",
      "_________________________________________________________________\n",
      "dense_157 (Dense)            (None, 3)                 1539      \n",
      "=================================================================\n",
      "Total params: 272,547\n",
      "Trainable params: 272,547\n",
      "Non-trainable params: 0\n",
      "_________________________________________________________________\n"
     ]
    }
   ],
   "source": [
    "##VGG Models\n",
    "def createModel():\n",
    "    model = Sequential()\n",
    "    # The first two layers with 32 filters of window size 3x3\n",
    "    model.add(Conv2D(32, (3, 3), padding='same', activation='relu', input_shape=input_shape))\n",
    "    model.add(Conv2D(32, (3, 3), activation='relu'))\n",
    "    model.add(MaxPooling2D(pool_size=(2, 2)))\n",
    "    model.add(Dropout(0.25))\n",
    "\n",
    "    model.add(Conv2D(64, (3, 3), padding='same', activation='relu'))\n",
    "    model.add(Conv2D(64, (3, 3), activation='relu'))\n",
    "    model.add(MaxPooling2D(pool_size=(2, 2)))\n",
    "    model.add(Dropout(0.25))\n",
    "\n",
    "    model.add(Conv2D(64, (3, 3), padding='same', activation='relu'))\n",
    "    model.add(Conv2D(64, (3, 3), activation='relu'))\n",
    "    model.add(MaxPooling2D(pool_size=(2, 2)))\n",
    "    model.add(Dropout(0.25))\n",
    "\n",
    "    model.add(Flatten())\n",
    "    model.add(Dense(512, activation='relu'))\n",
    "    model.add(Dropout(0.25))\n",
    "    model.add(Dense(nClasses, activation='softmax'))\n",
    "    \n",
    "    return model\n",
    "model1 = createModel()\n",
    "model1.summary()\n",
    "def createModel2():\n",
    "    model = Sequential()\n",
    "    # The first two layers with 32 filters of window size 3x3\n",
    "    model.add(Conv2D(32, (3, 3), padding='same', activation='relu', input_shape=input_shape2))\n",
    "    model.add(Conv2D(32, (3, 3), activation='relu'))\n",
    "    model.add(MaxPooling2D(pool_size=(2, 2)))\n",
    "    model.add(Dropout(0.27))\n",
    "\n",
    "    model.add(Conv2D(64, (3, 3), padding='same', activation='relu'))\n",
    "    model.add(Conv2D(64, (3, 3), activation='relu'))\n",
    "    model.add(MaxPooling2D(pool_size=(2, 2)))\n",
    "    model.add(Dropout(0.27))\n",
    "\n",
    "    model.add(Conv2D(64, (3, 3), padding='same', activation='relu'))\n",
    "    model.add(Conv2D(64, (3, 3), activation='relu'))\n",
    "    model.add(MaxPooling2D(pool_size=(2, 2)))\n",
    "    model.add(Dropout(0.27))\n",
    "\n",
    "    model.add(Flatten())\n",
    "    model.add(Dense(512, activation='relu'))\n",
    "    model.add(Dropout(0.27))\n",
    "    model.add(Dense(nClasses2, activation='softmax'))\n",
    "    \n",
    "    return model\n",
    "model2 = createModel2()\n",
    "model2.summary()\n",
    "def createModel3():\n",
    "    model = Sequential()\n",
    "    # The first two layers with 32 filters of window size 3x3\n",
    "    model.add(Conv2D(32, (3, 3), padding='same', activation='relu', input_shape=input_shape3))\n",
    "    model.add(Conv2D(32, (3, 3), activation='relu'))\n",
    "    model.add(MaxPooling2D(pool_size=(2, 2)))\n",
    "    model.add(Dropout(0.4))\n",
    "\n",
    "    model.add(Conv2D(64, (3, 3), padding='same', activation='relu'))\n",
    "    model.add(Conv2D(64, (3, 3), activation='relu'))\n",
    "    model.add(MaxPooling2D(pool_size=(2, 2)))\n",
    "    model.add(Dropout(0.4))\n",
    "\n",
    "    model.add(Conv2D(64, (3, 3), padding='same', activation='relu'))\n",
    "    model.add(Conv2D(64, (3, 3), activation='relu'))\n",
    "    model.add(MaxPooling2D(pool_size=(2, 2)))\n",
    "    model.add(Dropout(0.4))\n",
    "\n",
    "    model.add(Flatten())\n",
    "    model.add(Dense(512, activation='relu'))\n",
    "    model.add(Dropout(0.4))\n",
    "    model.add(Dense(nClasses3, activation='softmax'))\n",
    "    \n",
    "    return model\n",
    "model3 = createModel3()\n",
    "model3.summary()"
   ]
  },
  {
   "cell_type": "markdown",
   "metadata": {},
   "source": [
    "## 4. Calculate the transition matrix"
   ]
  },
  {
   "cell_type": "code",
   "execution_count": 66,
   "metadata": {},
   "outputs": [],
   "source": [
    "#marix-inv\n",
    "def matrix_inv(model, train_data, train_label):\n",
    "\n",
    "    train_model = model;\n",
    "    predict_train = train_model.predict_proba(train_data) \n",
    "    a = np.argmax(predict_train, axis = 1)\n",
    "    dic = {}\n",
    "\n",
    "    for i in range(len(train_label)):\n",
    "        truth = train_label[i]\n",
    "        pred = a[i]\n",
    "        if truth in dic.keys():\n",
    "            dic[truth][pred] += 1\n",
    "        else:\n",
    "            dic[truth] = [0,0,0]\n",
    "            dic[truth][pred] += 1\n",
    "\n",
    "    num = Counter(train_label)\n",
    "\n",
    "    matrix = np.array([[dic[0][0]/num[0],dic[0][1]/num[0], dic[0][2]/num[0]], [dic[1][0]/num[1],dic[1][1]/num[1],dic[1][2]/num[1]], [dic[2][0]/num[2],dic[2][1]/num[2],dic[2][2]/num[2]]])\n",
    "    return matrix\n",
    "\n",
    "def cal_acc(matrix, model, test_data, test_label):\n",
    "    \n",
    "    matrix_inv = np.linalg.pinv(matrix)\n",
    "    predict_with_CNN = model.predict_proba(test_data)\n",
    "    predict_with_CNN_Adjust = np.dot(matrix_inv, predict_with_CNN.T)\n",
    "    predict_result_clean_CNN = np.argmax(predict_with_CNN_Adjust, axis = 0)\n",
    "    acc = (predict_result_clean_CNN == test_label).mean()\n",
    "    return acc"
   ]
  },
  {
   "cell_type": "code",
   "execution_count": 67,
   "metadata": {},
   "outputs": [],
   "source": [
    "#TTM\n",
    "matrix_MN5 = np.array([[0.5,0.2,0.3],[0.3,0.5,0.2],[0.2,0.3,0.5]])\n",
    "matrix_MN6 = np.array([[0.4,0.3,0.3],[0.3,0.4,0.3],[0.3,0.3,0.4]])"
   ]
  },
  {
   "cell_type": "markdown",
   "metadata": {},
   "source": [
    "# 5. Accuracy for each dataset"
   ]
  },
  {
   "cell_type": "markdown",
   "metadata": {},
   "source": [
    "## 5.1 FashionMNIST0.5"
   ]
  },
  {
   "cell_type": "code",
   "execution_count": 74,
   "metadata": {},
   "outputs": [
    {
     "name": "stdout",
     "output_type": "stream",
     "text": [
      "Epoch 1/15\n",
      "113/113 [==============================] - 16s 145ms/step - loss: 1.0729 - accuracy: 0.4282 - val_loss: 1.0603 - val_accuracy: 0.4817\n",
      "Epoch 2/15\n",
      "113/113 [==============================] - 16s 145ms/step - loss: 1.0559 - accuracy: 0.4681 - val_loss: 1.0436 - val_accuracy: 0.4875\n",
      "Epoch 3/15\n",
      "113/113 [==============================] - 16s 141ms/step - loss: 1.0504 - accuracy: 0.4751 - val_loss: 1.0389 - val_accuracy: 0.4947\n",
      "Epoch 4/15\n",
      "113/113 [==============================] - 16s 142ms/step - loss: 1.0467 - accuracy: 0.4806 - val_loss: 1.0415 - val_accuracy: 0.4914\n",
      "Epoch 5/15\n",
      "113/113 [==============================] - 17s 148ms/step - loss: 1.0461 - accuracy: 0.4806 - val_loss: 1.0360 - val_accuracy: 0.4972\n",
      "Epoch 6/15\n",
      "113/113 [==============================] - 17s 152ms/step - loss: 1.0430 - accuracy: 0.4822 - val_loss: 1.0442 - val_accuracy: 0.4989\n",
      "Epoch 7/15\n",
      "113/113 [==============================] - 16s 143ms/step - loss: 1.0407 - accuracy: 0.4847 - val_loss: 1.0404 - val_accuracy: 0.4947\n",
      "Epoch 8/15\n",
      "113/113 [==============================] - 17s 147ms/step - loss: 1.0381 - accuracy: 0.4880 - val_loss: 1.0374 - val_accuracy: 0.4964\n",
      "Epoch 9/15\n",
      "113/113 [==============================] - 17s 151ms/step - loss: 1.0389 - accuracy: 0.4886 - val_loss: 1.0373 - val_accuracy: 0.4936\n",
      "Epoch 10/15\n",
      "113/113 [==============================] - 17s 149ms/step - loss: 1.0375 - accuracy: 0.4881 - val_loss: 1.0381 - val_accuracy: 0.4978\n",
      "Epoch 11/15\n",
      "113/113 [==============================] - 17s 150ms/step - loss: 1.0370 - accuracy: 0.4879 - val_loss: 1.0389 - val_accuracy: 0.4950\n",
      "Epoch 12/15\n",
      "113/113 [==============================] - 17s 149ms/step - loss: 1.0350 - accuracy: 0.4914 - val_loss: 1.0357 - val_accuracy: 0.4956\n",
      "Epoch 13/15\n",
      "113/113 [==============================] - 17s 150ms/step - loss: 1.0351 - accuracy: 0.4911 - val_loss: 1.0425 - val_accuracy: 0.4900\n",
      "Epoch 14/15\n",
      "113/113 [==============================] - 16s 144ms/step - loss: 1.0310 - accuracy: 0.4937 - val_loss: 1.0482 - val_accuracy: 0.4958\n",
      "Epoch 15/15\n",
      "113/113 [==============================] - 17s 148ms/step - loss: 1.0286 - accuracy: 0.4944 - val_loss: 1.0419 - val_accuracy: 0.4819\n",
      "94/94 [==============================] - 1s 8ms/step - loss: 0.7559 - accuracy: 0.9060\n",
      "Epoch 1/15\n",
      "113/113 [==============================] - 17s 148ms/step - loss: 1.0783 - accuracy: 0.4139 - val_loss: 1.0541 - val_accuracy: 0.4886\n",
      "Epoch 2/15\n",
      "113/113 [==============================] - 16s 144ms/step - loss: 1.0566 - accuracy: 0.4691 - val_loss: 1.0417 - val_accuracy: 0.4892\n",
      "Epoch 3/15\n",
      "113/113 [==============================] - 16s 146ms/step - loss: 1.0517 - accuracy: 0.4718 - val_loss: 1.0400 - val_accuracy: 0.4883\n",
      "Epoch 4/15\n",
      "113/113 [==============================] - 17s 147ms/step - loss: 1.0486 - accuracy: 0.4756 - val_loss: 1.0393 - val_accuracy: 0.4947\n",
      "Epoch 5/15\n",
      "113/113 [==============================] - 17s 147ms/step - loss: 1.0468 - accuracy: 0.4810 - val_loss: 1.0363 - val_accuracy: 0.4889\n",
      "Epoch 6/15\n",
      "113/113 [==============================] - 17s 154ms/step - loss: 1.0436 - accuracy: 0.4792 - val_loss: 1.0507 - val_accuracy: 0.4761\n",
      "Epoch 7/15\n",
      "113/113 [==============================] - 17s 149ms/step - loss: 1.0430 - accuracy: 0.4837 - val_loss: 1.0353 - val_accuracy: 0.4939\n",
      "Epoch 8/15\n",
      "113/113 [==============================] - 17s 153ms/step - loss: 1.0402 - accuracy: 0.4846 - val_loss: 1.0390 - val_accuracy: 0.4914\n",
      "Epoch 9/15\n",
      "113/113 [==============================] - 17s 149ms/step - loss: 1.0398 - accuracy: 0.4844 - val_loss: 1.0398 - val_accuracy: 0.4897\n",
      "Epoch 10/15\n",
      "113/113 [==============================] - 17s 147ms/step - loss: 1.0376 - accuracy: 0.4883 - val_loss: 1.0356 - val_accuracy: 0.4986\n",
      "Epoch 11/15\n",
      "113/113 [==============================] - 17s 146ms/step - loss: 1.0370 - accuracy: 0.4894 - val_loss: 1.0411 - val_accuracy: 0.4881\n",
      "Epoch 12/15\n",
      "113/113 [==============================] - 16s 145ms/step - loss: 1.0349 - accuracy: 0.4895 - val_loss: 1.0405 - val_accuracy: 0.4894\n",
      "Epoch 13/15\n",
      "113/113 [==============================] - 17s 150ms/step - loss: 1.0349 - accuracy: 0.4897 - val_loss: 1.0374 - val_accuracy: 0.4894\n",
      "Epoch 14/15\n",
      "113/113 [==============================] - 16s 146ms/step - loss: 1.0308 - accuracy: 0.4940 - val_loss: 1.0362 - val_accuracy: 0.4950\n",
      "Epoch 15/15\n",
      "113/113 [==============================] - 16s 140ms/step - loss: 1.0294 - accuracy: 0.4910 - val_loss: 1.0402 - val_accuracy: 0.4992\n",
      "94/94 [==============================] - 0s 4ms/step - loss: 0.7707 - accuracy: 0.9310\n",
      "Epoch 1/15\n",
      "113/113 [==============================] - 17s 148ms/step - loss: 1.0788 - accuracy: 0.4151 - val_loss: 1.0490 - val_accuracy: 0.4733\n",
      "Epoch 2/15\n",
      "113/113 [==============================] - 17s 150ms/step - loss: 1.0565 - accuracy: 0.4683 - val_loss: 1.0429 - val_accuracy: 0.4897\n",
      "Epoch 3/15\n",
      "113/113 [==============================] - 16s 143ms/step - loss: 1.0511 - accuracy: 0.4741 - val_loss: 1.0410 - val_accuracy: 0.4881\n",
      "Epoch 4/15\n",
      "113/113 [==============================] - 16s 145ms/step - loss: 1.0481 - accuracy: 0.4784 - val_loss: 1.0390 - val_accuracy: 0.4917\n",
      "Epoch 5/15\n",
      "113/113 [==============================] - 16s 143ms/step - loss: 1.0472 - accuracy: 0.4802 - val_loss: 1.0404 - val_accuracy: 0.4969\n",
      "Epoch 6/15\n",
      "113/113 [==============================] - 17s 151ms/step - loss: 1.0444 - accuracy: 0.4818 - val_loss: 1.0507 - val_accuracy: 0.4714\n",
      "Epoch 7/15\n",
      "113/113 [==============================] - 17s 147ms/step - loss: 1.0417 - accuracy: 0.4851 - val_loss: 1.0409 - val_accuracy: 0.4942\n",
      "Epoch 8/15\n",
      "113/113 [==============================] - 17s 154ms/step - loss: 1.0407 - accuracy: 0.4852 - val_loss: 1.0422 - val_accuracy: 0.4886\n",
      "Epoch 9/15\n",
      "113/113 [==============================] - 17s 150ms/step - loss: 1.0397 - accuracy: 0.4889 - val_loss: 1.0387 - val_accuracy: 0.4925\n",
      "Epoch 10/15\n",
      "113/113 [==============================] - 16s 146ms/step - loss: 1.0371 - accuracy: 0.4879 - val_loss: 1.0381 - val_accuracy: 0.4928\n",
      "Epoch 11/15\n",
      "113/113 [==============================] - 16s 145ms/step - loss: 1.0354 - accuracy: 0.4899 - val_loss: 1.0418 - val_accuracy: 0.4914\n",
      "Epoch 12/15\n",
      "113/113 [==============================] - 16s 144ms/step - loss: 1.0342 - accuracy: 0.4915 - val_loss: 1.0364 - val_accuracy: 0.4958\n",
      "Epoch 13/15\n",
      "113/113 [==============================] - 16s 146ms/step - loss: 1.0319 - accuracy: 0.4923 - val_loss: 1.0406 - val_accuracy: 0.4939\n",
      "Epoch 14/15\n",
      "113/113 [==============================] - 17s 149ms/step - loss: 1.0317 - accuracy: 0.4941 - val_loss: 1.0429 - val_accuracy: 0.4931\n",
      "Epoch 15/15\n",
      "113/113 [==============================] - 16s 146ms/step - loss: 1.0277 - accuracy: 0.4950 - val_loss: 1.0431 - val_accuracy: 0.4897\n",
      "94/94 [==============================] - 0s 4ms/step - loss: 0.7095 - accuracy: 0.9307\n",
      "Epoch 1/15\n",
      "113/113 [==============================] - 17s 146ms/step - loss: 1.0742 - accuracy: 0.4288 - val_loss: 1.0642 - val_accuracy: 0.4753\n",
      "Epoch 2/15\n",
      "113/113 [==============================] - 17s 146ms/step - loss: 1.0555 - accuracy: 0.4651 - val_loss: 1.0512 - val_accuracy: 0.4753\n",
      "Epoch 3/15\n",
      "113/113 [==============================] - 17s 146ms/step - loss: 1.0498 - accuracy: 0.4748 - val_loss: 1.0476 - val_accuracy: 0.4839\n",
      "Epoch 4/15\n",
      "113/113 [==============================] - 16s 143ms/step - loss: 1.0482 - accuracy: 0.4778 - val_loss: 1.0401 - val_accuracy: 0.4969\n",
      "Epoch 5/15\n",
      "113/113 [==============================] - 16s 143ms/step - loss: 1.0470 - accuracy: 0.4795 - val_loss: 1.0391 - val_accuracy: 0.4928\n",
      "Epoch 6/15\n",
      "113/113 [==============================] - 16s 145ms/step - loss: 1.0436 - accuracy: 0.4817 - val_loss: 1.0373 - val_accuracy: 0.4931\n",
      "Epoch 7/15\n",
      "113/113 [==============================] - 17s 150ms/step - loss: 1.0426 - accuracy: 0.4828 - val_loss: 1.0417 - val_accuracy: 0.4869\n",
      "Epoch 8/15\n",
      "113/113 [==============================] - 16s 145ms/step - loss: 1.0407 - accuracy: 0.4865 - val_loss: 1.0504 - val_accuracy: 0.4889\n",
      "Epoch 9/15\n",
      "113/113 [==============================] - 17s 150ms/step - loss: 1.0403 - accuracy: 0.4867 - val_loss: 1.0377 - val_accuracy: 0.4942\n",
      "Epoch 10/15\n",
      "113/113 [==============================] - 17s 155ms/step - loss: 1.0370 - accuracy: 0.4880 - val_loss: 1.0345 - val_accuracy: 0.4964\n",
      "Epoch 11/15\n",
      "113/113 [==============================] - 16s 145ms/step - loss: 1.0364 - accuracy: 0.4903 - val_loss: 1.0412 - val_accuracy: 0.4942\n",
      "Epoch 12/15\n",
      "113/113 [==============================] - 16s 140ms/step - loss: 1.0342 - accuracy: 0.4910 - val_loss: 1.0391 - val_accuracy: 0.4894\n",
      "Epoch 13/15\n",
      "113/113 [==============================] - 18s 157ms/step - loss: 1.0330 - accuracy: 0.4931 - val_loss: 1.0425 - val_accuracy: 0.4919\n",
      "Epoch 14/15\n",
      "113/113 [==============================] - 18s 162ms/step - loss: 1.0334 - accuracy: 0.4931 - val_loss: 1.0416 - val_accuracy: 0.4861\n",
      "Epoch 15/15\n",
      "113/113 [==============================] - 17s 154ms/step - loss: 1.0290 - accuracy: 0.4932 - val_loss: 1.0435 - val_accuracy: 0.4950\n",
      "94/94 [==============================] - 0s 4ms/step - loss: 0.7641 - accuracy: 0.9347\n",
      "Epoch 1/15\n",
      "113/113 [==============================] - 17s 149ms/step - loss: 1.0751 - accuracy: 0.4242 - val_loss: 1.0559 - val_accuracy: 0.4789\n",
      "Epoch 2/15\n",
      "113/113 [==============================] - 16s 143ms/step - loss: 1.0571 - accuracy: 0.4642 - val_loss: 1.0415 - val_accuracy: 0.4878\n",
      "Epoch 3/15\n",
      "113/113 [==============================] - 16s 145ms/step - loss: 1.0507 - accuracy: 0.4731 - val_loss: 1.0452 - val_accuracy: 0.4917\n",
      "Epoch 4/15\n",
      "113/113 [==============================] - 17s 146ms/step - loss: 1.0509 - accuracy: 0.4753 - val_loss: 1.0370 - val_accuracy: 0.4953\n",
      "Epoch 5/15\n",
      "113/113 [==============================] - 16s 142ms/step - loss: 1.0463 - accuracy: 0.4770 - val_loss: 1.0352 - val_accuracy: 0.4942\n",
      "Epoch 6/15\n",
      "113/113 [==============================] - 16s 145ms/step - loss: 1.0445 - accuracy: 0.4813 - val_loss: 1.0329 - val_accuracy: 0.5000\n",
      "Epoch 7/15\n",
      "113/113 [==============================] - 17s 148ms/step - loss: 1.0442 - accuracy: 0.4828 - val_loss: 1.0336 - val_accuracy: 0.4992\n",
      "Epoch 8/15\n",
      "113/113 [==============================] - 16s 145ms/step - loss: 1.0421 - accuracy: 0.4833 - val_loss: 1.0385 - val_accuracy: 0.4972\n",
      "Epoch 9/15\n",
      "113/113 [==============================] - 16s 144ms/step - loss: 1.0403 - accuracy: 0.4860 - val_loss: 1.0405 - val_accuracy: 0.4950\n",
      "Epoch 10/15\n",
      "113/113 [==============================] - 16s 146ms/step - loss: 1.0387 - accuracy: 0.4868 - val_loss: 1.0370 - val_accuracy: 0.4958\n",
      "Epoch 11/15\n",
      "113/113 [==============================] - 16s 143ms/step - loss: 1.0386 - accuracy: 0.4867 - val_loss: 1.0386 - val_accuracy: 0.4964\n",
      "Epoch 12/15\n",
      "113/113 [==============================] - 16s 143ms/step - loss: 1.0364 - accuracy: 0.4901 - val_loss: 1.0321 - val_accuracy: 0.5019\n",
      "Epoch 13/15\n",
      "113/113 [==============================] - 16s 143ms/step - loss: 1.0349 - accuracy: 0.4897 - val_loss: 1.0396 - val_accuracy: 0.4886\n",
      "Epoch 14/15\n",
      "113/113 [==============================] - 17s 148ms/step - loss: 1.0349 - accuracy: 0.4930 - val_loss: 1.0387 - val_accuracy: 0.4947\n",
      "Epoch 15/15\n",
      "113/113 [==============================] - 16s 146ms/step - loss: 1.0319 - accuracy: 0.4930 - val_loss: 1.0430 - val_accuracy: 0.4903\n",
      "94/94 [==============================] - 0s 4ms/step - loss: 0.8188 - accuracy: 0.8913\n"
     ]
    }
   ],
   "source": [
    "#MNIST0.5 fit\n",
    "mean_1 = []\n",
    "mean_TM_1 = []\n",
    "mean_EM_1 = []\n",
    "times = 5\n",
    "for i in range(times):\n",
    "    model1 = createModel()\n",
    "    batch_size = 128\n",
    "    epochs = 15\n",
    "    model1.compile(optimizer='rmsprop', loss='categorical_crossentropy', metrics=['accuracy'])\n",
    "\n",
    "    history = model1.fit(train_data, train_labels_one_hot, batch_size=batch_size, epochs=epochs, verbose=1, \n",
    "                       validation_split=0.2)\n",
    "    \n",
    "    #Directly VGG\n",
    "    score = model1.evaluate(test_data, test_labels_one_hot)\n",
    "    \n",
    "    mean_1.append(score[1])\n",
    "    \n",
    "    #TM\n",
    "    acc1_TM = cal_acc(matrix_MN5, model1, test_data, test_labels)\n",
    "    mean_TM_1.append(acc1_TM)\n",
    "    \n",
    "    #EM\n",
    "    matrix1 = matrix_inv(model1, train_data, train_labels)\n",
    "    \n",
    "    acc1_EM = cal_acc(matrix1, model1, test_data, test_labels)\n",
    "    \n",
    "    mean_EM_1.append(acc1_EM)\n"
   ]
  },
  {
   "cell_type": "markdown",
   "metadata": {},
   "source": [
    "### 5.1.2 Estimate Transition Matrix"
   ]
  },
  {
   "cell_type": "code",
   "execution_count": 99,
   "metadata": {},
   "outputs": [
    {
     "data": {
      "text/plain": [
       "array([[0.52683333, 0.15816667, 0.315     ],\n",
       "       [0.32      , 0.421     , 0.259     ],\n",
       "       [0.22483333, 0.24133333, 0.53383333]])"
      ]
     },
     "execution_count": 99,
     "metadata": {},
     "output_type": "execute_result"
    }
   ],
   "source": [
    "matrix1 = matrix_inv(model1, train_data, train_labels)\n",
    "matrix1"
   ]
  },
  {
   "cell_type": "markdown",
   "metadata": {},
   "source": [
    "### 5.1.3 Calculate the Mean and STD"
   ]
  },
  {
   "cell_type": "code",
   "execution_count": 76,
   "metadata": {},
   "outputs": [
    {
     "name": "stdout",
     "output_type": "stream",
     "text": [
      "Mean of directly VGG is: 91.87%  STD is : 0.01708592798530134\n",
      "Mean of Transition Matrix is: 92.48%  STD is : 0.012082310301520273\n",
      "Mean of Estimated Transition Matrix is: 92.51%  STD is : 0.011620671237067164\n"
     ]
    }
   ],
   "source": [
    "##Mean and std\n",
    "print(\"Mean of directly VGG is: {:.2f}%\".format(np.array(mean_1).mean()*100),\" STD is :\",np.array(mean_1).std())\n",
    "print(\"Mean of Transition Matrix is: {:.2f}%\".format(np.array(mean_TM_1).mean()*100),\" STD is :\",np.array(mean_TM_1).std())\n",
    "print(\"Mean of Estimated Transition Matrix is: {:.2f}%\".format(np.array(mean_EM_1).mean()*100),\" STD is :\",np.array(mean_EM_1).std())"
   ]
  },
  {
   "cell_type": "markdown",
   "metadata": {},
   "source": [
    "### 5.1.4 Comparison Charts"
   ]
  },
  {
   "cell_type": "code",
   "execution_count": 96,
   "metadata": {},
   "outputs": [
    {
     "data": {
      "image/png": "[encoded data removed]",
      "text/plain": [
       "<Figure size 432x288 with 1 Axes>"
      ]
     },
     "metadata": {
      "needs_background": "light"
     },
     "output_type": "display_data"
    },
    {
     "data": {
      "image/png": "[encoded data removed]",
      "text/plain": [
       "<Figure size 432x288 with 1 Axes>"
      ]
     },
     "metadata": {
      "needs_background": "light"
     },
     "output_type": "display_data"
    }
   ],
   "source": [
    "#Graph of directly VGG-CNN accuracy and Estimated Transition Matrix accuracy\n",
    "plt.title(\"VGG-CNN accuracy,True TM accuracy and Estimated TM accuracy\")\n",
    "plt.plot(mean_1, label='accuracy')\n",
    "plt.plot(mean_TM_1, label = 'TTM_accuracy')\n",
    "plt.plot(mean_EM_1, label = 'ETM_accuracy')\n",
    "plt.xlabel('Epoch')\n",
    "plt.ylabel('Accuracy')\n",
    "plt.ylim([0.85, 1])\n",
    "plt.legend(loc='lower right')\n",
    "plt.show()\n",
    "\n",
    "#Graph of train accuracy and val-accuracy\n",
    "plt.title(\"train accuracy and val-accuracy\")\n",
    "plt.plot(history.history['accuracy'], label='train_accuracy')\n",
    "plt.plot(history.history['val_accuracy'], label = 'val_accuracy')\n",
    "plt.xlabel('Epoch')\n",
    "plt.ylabel('Accuracy')\n",
    "plt.ylim([0.4, 0.6])\n",
    "plt.legend(loc='lower right')\n",
    "plt.show()\n",
    "# test_loss, test_acc = cnn_mnist.evaluate(x_test_mnist,  y_test_mnist, verbose=2)"
   ]
  },
  {
   "cell_type": "markdown",
   "metadata": {},
   "source": [
    "## 5.2 FashionMNIST0.6"
   ]
  },
  {
   "cell_type": "code",
   "execution_count": 107,
   "metadata": {},
   "outputs": [
    {
     "name": "stdout",
     "output_type": "stream",
     "text": [
      "Epoch 1/10\n",
      "113/113 [==============================] - 16s 144ms/step - loss: 1.0992 - accuracy: 0.3331 - val_loss: 1.1002 - val_accuracy: 0.3300\n",
      "Epoch 2/10\n",
      "113/113 [==============================] - 16s 141ms/step - loss: 1.0963 - accuracy: 0.3644 - val_loss: 1.0962 - val_accuracy: 0.3508\n",
      "Epoch 3/10\n",
      "113/113 [==============================] - 16s 143ms/step - loss: 1.0941 - accuracy: 0.3837 - val_loss: 1.0958 - val_accuracy: 0.3561\n",
      "Epoch 4/10\n",
      "113/113 [==============================] - 16s 143ms/step - loss: 1.0925 - accuracy: 0.3867 - val_loss: 1.0950 - val_accuracy: 0.3794\n",
      "Epoch 5/10\n",
      "113/113 [==============================] - 16s 143ms/step - loss: 1.0923 - accuracy: 0.3867 - val_loss: 1.0976 - val_accuracy: 0.3772\n",
      "Epoch 6/10\n",
      "113/113 [==============================] - 16s 144ms/step - loss: 1.0910 - accuracy: 0.3898 - val_loss: 1.1008 - val_accuracy: 0.3872\n",
      "Epoch 7/10\n",
      "113/113 [==============================] - 16s 144ms/step - loss: 1.0905 - accuracy: 0.3897 - val_loss: 1.0961 - val_accuracy: 0.3753\n",
      "Epoch 8/10\n",
      "113/113 [==============================] - 16s 144ms/step - loss: 1.0899 - accuracy: 0.3924 - val_loss: 1.0968 - val_accuracy: 0.3633\n",
      "Epoch 9/10\n",
      "113/113 [==============================] - 16s 143ms/step - loss: 1.0903 - accuracy: 0.3932 - val_loss: 1.0945 - val_accuracy: 0.3714\n",
      "Epoch 10/10\n",
      "113/113 [==============================] - 16s 144ms/step - loss: 1.0897 - accuracy: 0.3975 - val_loss: 1.0972 - val_accuracy: 0.3814\n",
      "94/94 [==============================] - 0s 5ms/step - loss: 0.9464 - accuracy: 0.8770\n",
      "Epoch 1/10\n",
      "113/113 [==============================] - 16s 146ms/step - loss: 1.0992 - accuracy: 0.3328 - val_loss: 1.0982 - val_accuracy: 0.3414\n",
      "Epoch 2/10\n",
      "113/113 [==============================] - 16s 143ms/step - loss: 1.0963 - accuracy: 0.3634 - val_loss: 1.0947 - val_accuracy: 0.3686\n",
      "Epoch 3/10\n",
      "113/113 [==============================] - 16s 144ms/step - loss: 1.0940 - accuracy: 0.3826 - val_loss: 1.0940 - val_accuracy: 0.3908\n",
      "Epoch 4/10\n",
      "113/113 [==============================] - 17s 147ms/step - loss: 1.0924 - accuracy: 0.3856 - val_loss: 1.0998 - val_accuracy: 0.3633\n",
      "Epoch 5/10\n",
      "113/113 [==============================] - 18s 160ms/step - loss: 1.0914 - accuracy: 0.3859 - val_loss: 1.0986 - val_accuracy: 0.3603\n",
      "Epoch 6/10\n",
      "113/113 [==============================] - 17s 147ms/step - loss: 1.0917 - accuracy: 0.3888 - val_loss: 1.0932 - val_accuracy: 0.3828\n",
      "Epoch 7/10\n",
      "113/113 [==============================] - 16s 144ms/step - loss: 1.0904 - accuracy: 0.3894 - val_loss: 1.0975 - val_accuracy: 0.3867\n",
      "Epoch 8/10\n",
      "113/113 [==============================] - 16s 142ms/step - loss: 1.0889 - accuracy: 0.3931 - val_loss: 1.0977 - val_accuracy: 0.3425\n",
      "Epoch 9/10\n",
      "113/113 [==============================] - 16s 145ms/step - loss: 1.0906 - accuracy: 0.3938 - val_loss: 1.0946 - val_accuracy: 0.3889\n",
      "Epoch 10/10\n",
      "113/113 [==============================] - 16s 138ms/step - loss: 1.0888 - accuracy: 0.3990 - val_loss: 1.0951 - val_accuracy: 0.3839\n",
      "94/94 [==============================] - 0s 4ms/step - loss: 0.9455 - accuracy: 0.8650\n",
      "Epoch 1/10\n",
      "113/113 [==============================] - 17s 147ms/step - loss: 1.0990 - accuracy: 0.3370 - val_loss: 1.0963 - val_accuracy: 0.3583\n",
      "Epoch 2/10\n",
      "113/113 [==============================] - 16s 140ms/step - loss: 1.0955 - accuracy: 0.3729 - val_loss: 1.0936 - val_accuracy: 0.3839\n",
      "Epoch 3/10\n",
      "113/113 [==============================] - 16s 140ms/step - loss: 1.0932 - accuracy: 0.3887 - val_loss: 1.1005 - val_accuracy: 0.3589\n",
      "Epoch 4/10\n",
      "113/113 [==============================] - 16s 140ms/step - loss: 1.0925 - accuracy: 0.3908 - val_loss: 1.0942 - val_accuracy: 0.3761\n",
      "Epoch 5/10\n",
      "113/113 [==============================] - 16s 139ms/step - loss: 1.0908 - accuracy: 0.3925 - val_loss: 1.0932 - val_accuracy: 0.3842\n",
      "Epoch 6/10\n",
      "113/113 [==============================] - 16s 139ms/step - loss: 1.0902 - accuracy: 0.3938 - val_loss: 1.0970 - val_accuracy: 0.3781\n",
      "Epoch 7/10\n",
      "113/113 [==============================] - 16s 139ms/step - loss: 1.0903 - accuracy: 0.3917 - val_loss: 1.0949 - val_accuracy: 0.3839\n",
      "Epoch 8/10\n",
      "113/113 [==============================] - 16s 138ms/step - loss: 1.0905 - accuracy: 0.3936 - val_loss: 1.0964 - val_accuracy: 0.3861\n",
      "Epoch 9/10\n",
      "113/113 [==============================] - 16s 139ms/step - loss: 1.0894 - accuracy: 0.3985 - val_loss: 1.0928 - val_accuracy: 0.3842\n",
      "Epoch 10/10\n",
      "113/113 [==============================] - 16s 139ms/step - loss: 1.0893 - accuracy: 0.3958 - val_loss: 1.0938 - val_accuracy: 0.3861\n",
      "94/94 [==============================] - 0s 4ms/step - loss: 0.9640 - accuracy: 0.8980\n",
      "Epoch 1/10\n",
      "113/113 [==============================] - 16s 141ms/step - loss: 1.0997 - accuracy: 0.3386 - val_loss: 1.0960 - val_accuracy: 0.3625\n",
      "Epoch 2/10\n",
      "113/113 [==============================] - 16s 138ms/step - loss: 1.0948 - accuracy: 0.3794 - val_loss: 1.0990 - val_accuracy: 0.3550\n",
      "Epoch 3/10\n",
      "113/113 [==============================] - 16s 139ms/step - loss: 1.0930 - accuracy: 0.3871 - val_loss: 1.0941 - val_accuracy: 0.3769\n",
      "Epoch 4/10\n",
      "113/113 [==============================] - 16s 139ms/step - loss: 1.0920 - accuracy: 0.3910 - val_loss: 1.0944 - val_accuracy: 0.3814\n",
      "Epoch 5/10\n",
      "113/113 [==============================] - 16s 139ms/step - loss: 1.0914 - accuracy: 0.3892 - val_loss: 1.0943 - val_accuracy: 0.3689\n",
      "Epoch 6/10\n",
      "113/113 [==============================] - 16s 139ms/step - loss: 1.0913 - accuracy: 0.3916 - val_loss: 1.0927 - val_accuracy: 0.3894\n",
      "Epoch 7/10\n",
      "113/113 [==============================] - 16s 139ms/step - loss: 1.0899 - accuracy: 0.3938 - val_loss: 1.0975 - val_accuracy: 0.3856\n",
      "Epoch 8/10\n",
      "113/113 [==============================] - 16s 138ms/step - loss: 1.0902 - accuracy: 0.3944 - val_loss: 1.0940 - val_accuracy: 0.3817\n",
      "Epoch 9/10\n",
      "113/113 [==============================] - 16s 139ms/step - loss: 1.0890 - accuracy: 0.3942 - val_loss: 1.1073 - val_accuracy: 0.3775\n",
      "Epoch 10/10\n",
      "113/113 [==============================] - 16s 139ms/step - loss: 1.0893 - accuracy: 0.3957 - val_loss: 1.0932 - val_accuracy: 0.3878\n",
      "94/94 [==============================] - 0s 4ms/step - loss: 0.9686 - accuracy: 0.8780\n",
      "Epoch 1/10\n",
      "113/113 [==============================] - 16s 140ms/step - loss: 1.0995 - accuracy: 0.3419 - val_loss: 1.0970 - val_accuracy: 0.3561\n",
      "Epoch 2/10\n",
      "113/113 [==============================] - 16s 139ms/step - loss: 1.0972 - accuracy: 0.3576 - val_loss: 1.0957 - val_accuracy: 0.3772\n",
      "Epoch 3/10\n",
      "113/113 [==============================] - 17s 151ms/step - loss: 1.0938 - accuracy: 0.3792 - val_loss: 1.1035 - val_accuracy: 0.3750\n",
      "Epoch 4/10\n",
      "113/113 [==============================] - 17s 155ms/step - loss: 1.0927 - accuracy: 0.3886 - val_loss: 1.0945 - val_accuracy: 0.3747\n",
      "Epoch 5/10\n",
      "113/113 [==============================] - 16s 144ms/step - loss: 1.0912 - accuracy: 0.3923 - val_loss: 1.0954 - val_accuracy: 0.3850\n",
      "Epoch 6/10\n",
      "113/113 [==============================] - 17s 151ms/step - loss: 1.0908 - accuracy: 0.3920 - val_loss: 1.0976 - val_accuracy: 0.3719\n",
      "Epoch 7/10\n",
      "113/113 [==============================] - 20s 175ms/step - loss: 1.0911 - accuracy: 0.3923 - val_loss: 1.0985 - val_accuracy: 0.3778\n",
      "Epoch 8/10\n",
      "113/113 [==============================] - 18s 162ms/step - loss: 1.0903 - accuracy: 0.3905 - val_loss: 1.0977 - val_accuracy: 0.3867\n",
      "Epoch 9/10\n",
      "113/113 [==============================] - 17s 153ms/step - loss: 1.0903 - accuracy: 0.3940 - val_loss: 1.0967 - val_accuracy: 0.3722\n",
      "Epoch 10/10\n",
      "113/113 [==============================] - 16s 145ms/step - loss: 1.0894 - accuracy: 0.3927 - val_loss: 1.0965 - val_accuracy: 0.3814\n",
      "94/94 [==============================] - 0s 4ms/step - loss: 0.9340 - accuracy: 0.8600\n"
     ]
    }
   ],
   "source": [
    "## 5.2 FashionMNIST0.6\n",
    "mean_2 = []\n",
    "mean_TM_2 = []\n",
    "mean_EM_2 = []\n",
    "times = 5\n",
    "for i in range(times):\n",
    "    \n",
    "    model2 = createModel2()\n",
    "    batch_size = 128\n",
    "    epochs = 15\n",
    "    model2.compile(optimizer='rmsprop', loss='categorical_crossentropy', metrics=['accuracy'])\n",
    "\n",
    "    history2 = model2.fit(train_data2, train_labels_one_hot2, batch_size=batch_size, epochs=epochs, verbose=1, \n",
    "                       validation_split=0.2)\n",
    "    #Directly VGG\n",
    "    score = model2.evaluate(test_data2, test_labels_one_hot2)\n",
    "    \n",
    "    mean_2.append(score[1])\n",
    "    \n",
    "    #TM\n",
    "    acc2_TM = cal_acc(matrix_MN6, model2, test_data2, test_labels2)\n",
    "    mean_TM_2.append(acc2_TM)\n",
    "    \n",
    "    #EM\n",
    "    matrix2 = matrix_inv(model2, train_data2, train_labels2)\n",
    "    \n",
    "    acc2_EM = cal_acc(matrix2, model2, test_data2, test_labels2)\n",
    "    \n",
    "    mean_EM_2.append(acc2_EM)\n"
   ]
  },
  {
   "cell_type": "markdown",
   "metadata": {},
   "source": [
    "### 5.2.2 Estimate Transition Matrix"
   ]
  },
  {
   "cell_type": "code",
   "execution_count": 111,
   "metadata": {},
   "outputs": [
    {
     "data": {
      "text/plain": [
       "array([[0.288     , 0.2755    , 0.4365    ],\n",
       "       [0.2075    , 0.37733333, 0.41516667],\n",
       "       [0.204     , 0.27633333, 0.51966667]])"
      ]
     },
     "execution_count": 111,
     "metadata": {},
     "output_type": "execute_result"
    }
   ],
   "source": [
    "matrix2 = matrix_inv(model2, train_data2, train_labels2)\n",
    "matrix2"
   ]
  },
  {
   "cell_type": "markdown",
   "metadata": {},
   "source": [
    "### 5.2.3 Calculate the Mean and STD"
   ]
  },
  {
   "cell_type": "code",
   "execution_count": 109,
   "metadata": {},
   "outputs": [
    {
     "name": "stdout",
     "output_type": "stream",
     "text": [
      "Mean of directly VGG is: 87.56%  STD is : 0.013154462859138169\n",
      "Mean of Transition Matrix is: 87.56%  STD is : 0.01315446692192429\n",
      "Mean of Estimated Transition Matrix is: 87.61%  STD is : 0.013522984548948912\n"
     ]
    }
   ],
   "source": [
    "##Mean and std\n",
    "print(\"Mean of directly VGG is: {:.2f}%\".format(np.array(mean_2).mean()*100),\" STD is :\",np.array(mean_2).std())\n",
    "print(\"Mean of Transition Matrix is: {:.2f}%\".format(np.array(mean_TM_2).mean()*100),\" STD is :\",np.array(mean_TM_2).std())\n",
    "print(\"Mean of Estimated Transition Matrix is: {:.2f}%\".format(np.array(mean_EM_2).mean()*100),\" STD is :\",np.array(mean_EM_2).std())"
   ]
  },
  {
   "cell_type": "markdown",
   "metadata": {},
   "source": [
    "### 5.2.4 Comparison Charts"
   ]
  },
  {
   "cell_type": "code",
   "execution_count": 112,
   "metadata": {
    "scrolled": false
   },
   "outputs": [
    {
     "data": {
      "image/png": "[encoded data removed]",
      "text/plain": [
       "<Figure size 432x288 with 1 Axes>"
      ]
     },
     "metadata": {
      "needs_background": "light"
     },
     "output_type": "display_data"
    },
    {
     "data": {
      "image/png": "[encoded data removed]",
      "text/plain": [
       "<Figure size 432x288 with 1 Axes>"
      ]
     },
     "metadata": {
      "needs_background": "light"
     },
     "output_type": "display_data"
    }
   ],
   "source": [
    "#Graph of directly CNN-VGG accuracy and Estimated Transition Matrix accuracy\n",
    "plt.title(\"CNN-VGG accuracy,True TM accuracy and Estimated TM accuracy\")\n",
    "plt.plot(mean_2, label='accuracy')\n",
    "plt.plot(mean_TM_2, label = 'TTM_accuracy')\n",
    "plt.plot(mean_EM_2, label = 'ETM_accuracy')\n",
    "plt.xlabel('Epoch')\n",
    "plt.ylabel('Accuracy')\n",
    "plt.ylim([0.7, 1])\n",
    "plt.legend(loc='lower right')\n",
    "plt.show()\n",
    "\n",
    "#Graph of train accuracy and val-accuracy\n",
    "plt.title(\"train accuracy and val-accuracy\")\n",
    "plt.plot(history2.history['accuracy'], label='train_accuracy')\n",
    "plt.plot(history2.history['val_accuracy'], label = 'val_accuracy')\n",
    "plt.xlabel('Epoch')\n",
    "plt.ylabel('Accuracy')\n",
    "plt.ylim([0.3, 0.45])\n",
    "plt.legend(loc='lower right')\n",
    "plt.show()\n",
    "# test_loss, test_acc = cnn_mnist.evaluate(x_test_mnist,  y_test_mnist, verbose=2)"
   ]
  },
  {
   "cell_type": "markdown",
   "metadata": {},
   "source": [
    "## 5.3 CIFAR"
   ]
  },
  {
   "cell_type": "code",
   "execution_count": 57,
   "metadata": {},
   "outputs": [
    {
     "name": "stdout",
     "output_type": "stream",
     "text": [
      "Epoch 1/15\n",
      "47/47 [==============================] - 14s 301ms/step - loss: 1.1004 - accuracy: 0.3340 - val_loss: 1.0987 - val_accuracy: 0.3313\n",
      "Epoch 2/15\n",
      "47/47 [==============================] - 14s 298ms/step - loss: 1.0992 - accuracy: 0.3353 - val_loss: 1.0985 - val_accuracy: 0.3353\n",
      "Epoch 3/15\n",
      "47/47 [==============================] - 14s 298ms/step - loss: 1.0986 - accuracy: 0.3418 - val_loss: 1.0980 - val_accuracy: 0.3413\n",
      "Epoch 4/15\n",
      "47/47 [==============================] - 14s 299ms/step - loss: 1.0982 - accuracy: 0.3528 - val_loss: 1.0967 - val_accuracy: 0.3653\n",
      "Epoch 5/15\n",
      "47/47 [==============================] - 14s 299ms/step - loss: 1.0959 - accuracy: 0.3603 - val_loss: 1.0974 - val_accuracy: 0.3517\n",
      "Epoch 6/15\n",
      "47/47 [==============================] - 14s 298ms/step - loss: 1.0950 - accuracy: 0.3597 - val_loss: 1.0942 - val_accuracy: 0.3750\n",
      "Epoch 7/15\n",
      "47/47 [==============================] - 14s 297ms/step - loss: 1.0946 - accuracy: 0.3627 - val_loss: 1.0931 - val_accuracy: 0.3683\n",
      "Epoch 8/15\n",
      "47/47 [==============================] - 14s 300ms/step - loss: 1.0947 - accuracy: 0.3622 - val_loss: 1.0925 - val_accuracy: 0.3697\n",
      "Epoch 9/15\n",
      "47/47 [==============================] - 14s 301ms/step - loss: 1.0932 - accuracy: 0.3722 - val_loss: 1.0929 - val_accuracy: 0.3647\n",
      "Epoch 10/15\n",
      "47/47 [==============================] - 14s 300ms/step - loss: 1.0932 - accuracy: 0.3672 - val_loss: 1.0925 - val_accuracy: 0.3693\n",
      "Epoch 11/15\n",
      "47/47 [==============================] - 14s 302ms/step - loss: 1.0909 - accuracy: 0.3748 - val_loss: 1.0934 - val_accuracy: 0.3603\n",
      "Epoch 12/15\n",
      "47/47 [==============================] - 14s 300ms/step - loss: 1.0916 - accuracy: 0.3694 - val_loss: 1.0915 - val_accuracy: 0.3600\n",
      "Epoch 13/15\n",
      "47/47 [==============================] - 14s 300ms/step - loss: 1.0894 - accuracy: 0.3724 - val_loss: 1.0916 - val_accuracy: 0.3713\n",
      "Epoch 14/15\n",
      "47/47 [==============================] - 14s 303ms/step - loss: 1.0897 - accuracy: 0.3759 - val_loss: 1.0906 - val_accuracy: 0.3743\n",
      "Epoch 15/15\n",
      "47/47 [==============================] - 14s 301ms/step - loss: 1.0886 - accuracy: 0.3828 - val_loss: 1.0886 - val_accuracy: 0.3817\n",
      "94/94 [==============================] - 1s 6ms/step - loss: 1.0249 - accuracy: 0.6180\n",
      "Epoch 1/15\n",
      "47/47 [==============================] - 15s 320ms/step - loss: 1.0991 - accuracy: 0.3368 - val_loss: 1.0982 - val_accuracy: 0.3317\n",
      "Epoch 2/15\n",
      "47/47 [==============================] - 14s 302ms/step - loss: 1.0988 - accuracy: 0.3474 - val_loss: 1.0975 - val_accuracy: 0.3533\n",
      "Epoch 3/15\n",
      "47/47 [==============================] - 14s 303ms/step - loss: 1.0973 - accuracy: 0.3618 - val_loss: 1.0967 - val_accuracy: 0.3627\n",
      "Epoch 4/15\n",
      "47/47 [==============================] - 14s 303ms/step - loss: 1.0973 - accuracy: 0.3498 - val_loss: 1.0972 - val_accuracy: 0.3627\n",
      "Epoch 5/15\n",
      "47/47 [==============================] - 14s 302ms/step - loss: 1.0964 - accuracy: 0.3542 - val_loss: 1.0950 - val_accuracy: 0.3710\n",
      "Epoch 6/15\n",
      "47/47 [==============================] - 14s 302ms/step - loss: 1.0951 - accuracy: 0.3665 - val_loss: 1.1085 - val_accuracy: 0.3423\n",
      "Epoch 7/15\n",
      "47/47 [==============================] - 14s 302ms/step - loss: 1.0944 - accuracy: 0.3665 - val_loss: 1.0898 - val_accuracy: 0.3903\n",
      "Epoch 8/15\n",
      "47/47 [==============================] - 14s 304ms/step - loss: 1.0938 - accuracy: 0.3697 - val_loss: 1.0923 - val_accuracy: 0.3857\n",
      "Epoch 9/15\n",
      "47/47 [==============================] - 14s 302ms/step - loss: 1.0932 - accuracy: 0.3702 - val_loss: 1.0944 - val_accuracy: 0.3723\n",
      "Epoch 10/15\n",
      "47/47 [==============================] - 14s 303ms/step - loss: 1.0922 - accuracy: 0.3733 - val_loss: 1.0909 - val_accuracy: 0.3737\n",
      "Epoch 11/15\n",
      "47/47 [==============================] - 14s 305ms/step - loss: 1.0906 - accuracy: 0.3778 - val_loss: 1.0949 - val_accuracy: 0.3633\n",
      "Epoch 12/15\n",
      "47/47 [==============================] - 14s 304ms/step - loss: 1.0902 - accuracy: 0.3781 - val_loss: 1.0914 - val_accuracy: 0.3853\n",
      "Epoch 13/15\n",
      "47/47 [==============================] - 15s 310ms/step - loss: 1.0893 - accuracy: 0.3817 - val_loss: 1.0889 - val_accuracy: 0.3807\n",
      "Epoch 14/15\n",
      "47/47 [==============================] - 15s 316ms/step - loss: 1.0880 - accuracy: 0.3856 - val_loss: 1.0916 - val_accuracy: 0.3797\n",
      "Epoch 15/15\n",
      "47/47 [==============================] - 15s 323ms/step - loss: 1.0887 - accuracy: 0.3855 - val_loss: 1.0917 - val_accuracy: 0.3720\n",
      "94/94 [==============================] - 1s 6ms/step - loss: 1.0146 - accuracy: 0.6030\n",
      "Epoch 1/15\n",
      "47/47 [==============================] - 15s 325ms/step - loss: 1.0997 - accuracy: 0.3368 - val_loss: 1.0984 - val_accuracy: 0.3263\n",
      "Epoch 2/15\n",
      "47/47 [==============================] - 15s 316ms/step - loss: 1.0994 - accuracy: 0.3365 - val_loss: 1.0982 - val_accuracy: 0.3497\n",
      "Epoch 3/15\n",
      "47/47 [==============================] - 15s 329ms/step - loss: 1.0982 - accuracy: 0.3478 - val_loss: 1.0979 - val_accuracy: 0.3627\n",
      "Epoch 4/15\n",
      "47/47 [==============================] - 15s 328ms/step - loss: 1.0987 - accuracy: 0.3539 - val_loss: 1.0961 - val_accuracy: 0.3467\n",
      "Epoch 5/15\n",
      "47/47 [==============================] - 16s 337ms/step - loss: 1.0968 - accuracy: 0.3635 - val_loss: 1.0997 - val_accuracy: 0.3613\n",
      "Epoch 6/15\n",
      "47/47 [==============================] - 15s 325ms/step - loss: 1.0957 - accuracy: 0.3630 - val_loss: 1.1050 - val_accuracy: 0.3527\n",
      "Epoch 7/15\n",
      "47/47 [==============================] - 15s 319ms/step - loss: 1.0947 - accuracy: 0.3707 - val_loss: 1.0957 - val_accuracy: 0.3507\n",
      "Epoch 8/15\n",
      "47/47 [==============================] - 16s 344ms/step - loss: 1.0930 - accuracy: 0.3679 - val_loss: 1.0954 - val_accuracy: 0.3687\n",
      "Epoch 9/15\n",
      "47/47 [==============================] - 15s 323ms/step - loss: 1.0931 - accuracy: 0.3680 - val_loss: 1.0915 - val_accuracy: 0.3740\n",
      "Epoch 10/15\n",
      "47/47 [==============================] - 15s 309ms/step - loss: 1.0913 - accuracy: 0.3735 - val_loss: 1.0937 - val_accuracy: 0.3597\n",
      "Epoch 11/15\n",
      "47/47 [==============================] - 15s 320ms/step - loss: 1.0910 - accuracy: 0.3774 - val_loss: 1.0918 - val_accuracy: 0.3620\n",
      "Epoch 12/15\n",
      "47/47 [==============================] - 14s 302ms/step - loss: 1.0902 - accuracy: 0.3753 - val_loss: 1.0931 - val_accuracy: 0.3623\n",
      "Epoch 13/15\n",
      "47/47 [==============================] - 14s 302ms/step - loss: 1.0889 - accuracy: 0.3782 - val_loss: 1.0900 - val_accuracy: 0.3763\n",
      "Epoch 14/15\n",
      "47/47 [==============================] - 14s 303ms/step - loss: 1.0884 - accuracy: 0.3861 - val_loss: 1.0911 - val_accuracy: 0.3613\n",
      "Epoch 15/15\n",
      "47/47 [==============================] - 14s 302ms/step - loss: 1.0877 - accuracy: 0.3803 - val_loss: 1.0907 - val_accuracy: 0.3710\n",
      "94/94 [==============================] - 1s 6ms/step - loss: 1.0244 - accuracy: 0.6253\n",
      "Epoch 1/15\n",
      "47/47 [==============================] - 16s 341ms/step - loss: 1.0997 - accuracy: 0.3251 - val_loss: 1.1013 - val_accuracy: 0.3273\n",
      "Epoch 2/15\n",
      "47/47 [==============================] - 15s 317ms/step - loss: 1.0992 - accuracy: 0.3346 - val_loss: 1.0987 - val_accuracy: 0.3313\n",
      "Epoch 3/15\n",
      "47/47 [==============================] - 15s 319ms/step - loss: 1.0990 - accuracy: 0.3413 - val_loss: 1.0978 - val_accuracy: 0.3347\n",
      "Epoch 4/15\n",
      "47/47 [==============================] - 17s 371ms/step - loss: 1.0975 - accuracy: 0.3491 - val_loss: 1.0969 - val_accuracy: 0.3480\n",
      "Epoch 5/15\n",
      "47/47 [==============================] - 16s 335ms/step - loss: 1.0974 - accuracy: 0.3530 - val_loss: 1.0954 - val_accuracy: 0.3670\n",
      "Epoch 6/15\n",
      "47/47 [==============================] - 16s 345ms/step - loss: 1.0955 - accuracy: 0.3611 - val_loss: 1.0942 - val_accuracy: 0.3643\n",
      "Epoch 7/15\n",
      "47/47 [==============================] - 14s 307ms/step - loss: 1.0950 - accuracy: 0.3577 - val_loss: 1.0952 - val_accuracy: 0.3647\n",
      "Epoch 8/15\n",
      "47/47 [==============================] - 14s 306ms/step - loss: 1.0940 - accuracy: 0.3680 - val_loss: 1.0935 - val_accuracy: 0.3600\n",
      "Epoch 9/15\n",
      "47/47 [==============================] - 14s 301ms/step - loss: 1.0940 - accuracy: 0.3689 - val_loss: 1.0928 - val_accuracy: 0.3643\n",
      "Epoch 10/15\n",
      "47/47 [==============================] - 14s 305ms/step - loss: 1.0928 - accuracy: 0.3729 - val_loss: 1.0913 - val_accuracy: 0.3730\n",
      "Epoch 11/15\n",
      "47/47 [==============================] - 14s 300ms/step - loss: 1.0910 - accuracy: 0.3771 - val_loss: 1.0926 - val_accuracy: 0.3703\n",
      "Epoch 12/15\n",
      "47/47 [==============================] - 14s 298ms/step - loss: 1.0912 - accuracy: 0.3691 - val_loss: 1.0988 - val_accuracy: 0.3757\n",
      "Epoch 13/15\n",
      "47/47 [==============================] - 14s 300ms/step - loss: 1.0913 - accuracy: 0.3792 - val_loss: 1.0915 - val_accuracy: 0.3863\n",
      "Epoch 14/15\n",
      "47/47 [==============================] - 14s 307ms/step - loss: 1.0895 - accuracy: 0.3791 - val_loss: 1.0979 - val_accuracy: 0.3730\n",
      "Epoch 15/15\n",
      "47/47 [==============================] - 14s 304ms/step - loss: 1.0893 - accuracy: 0.3756 - val_loss: 1.0935 - val_accuracy: 0.3780\n",
      "94/94 [==============================] - 1s 6ms/step - loss: 1.0218 - accuracy: 0.6223\n",
      "Epoch 1/15\n",
      "47/47 [==============================] - 15s 311ms/step - loss: 1.0997 - accuracy: 0.3290 - val_loss: 1.0987 - val_accuracy: 0.3313\n",
      "Epoch 2/15\n",
      "47/47 [==============================] - 15s 314ms/step - loss: 1.0989 - accuracy: 0.3332 - val_loss: 1.0987 - val_accuracy: 0.3597\n",
      "Epoch 3/15\n",
      "47/47 [==============================] - 15s 312ms/step - loss: 1.0992 - accuracy: 0.3393 - val_loss: 1.0977 - val_accuracy: 0.3393\n",
      "Epoch 4/15\n",
      "47/47 [==============================] - 16s 336ms/step - loss: 1.0982 - accuracy: 0.3562 - val_loss: 1.0958 - val_accuracy: 0.3650\n",
      "Epoch 5/15\n",
      "47/47 [==============================] - 15s 326ms/step - loss: 1.0976 - accuracy: 0.3613 - val_loss: 1.0975 - val_accuracy: 0.3490\n",
      "Epoch 6/15\n",
      "47/47 [==============================] - 14s 304ms/step - loss: 1.0978 - accuracy: 0.3672 - val_loss: 1.0990 - val_accuracy: 0.3560\n",
      "Epoch 7/15\n",
      "47/47 [==============================] - 15s 312ms/step - loss: 1.0950 - accuracy: 0.3663 - val_loss: 1.0936 - val_accuracy: 0.3717\n",
      "Epoch 8/15\n",
      "47/47 [==============================] - 15s 313ms/step - loss: 1.0943 - accuracy: 0.3708 - val_loss: 1.0982 - val_accuracy: 0.3517\n",
      "Epoch 9/15\n",
      "47/47 [==============================] - 16s 331ms/step - loss: 1.0940 - accuracy: 0.3777 - val_loss: 1.0990 - val_accuracy: 0.3517\n",
      "Epoch 10/15\n",
      "47/47 [==============================] - 15s 311ms/step - loss: 1.0932 - accuracy: 0.3727 - val_loss: 1.0927 - val_accuracy: 0.3740\n",
      "Epoch 11/15\n",
      "47/47 [==============================] - 15s 316ms/step - loss: 1.0918 - accuracy: 0.3762 - val_loss: 1.0913 - val_accuracy: 0.3740\n",
      "Epoch 12/15\n",
      "47/47 [==============================] - 16s 336ms/step - loss: 1.0929 - accuracy: 0.3733 - val_loss: 1.0913 - val_accuracy: 0.3750\n",
      "Epoch 13/15\n",
      "47/47 [==============================] - 15s 328ms/step - loss: 1.0924 - accuracy: 0.3798 - val_loss: 1.0912 - val_accuracy: 0.3740\n",
      "Epoch 14/15\n",
      "47/47 [==============================] - 15s 314ms/step - loss: 1.0904 - accuracy: 0.3788 - val_loss: 1.0909 - val_accuracy: 0.3797\n",
      "Epoch 15/15\n",
      "47/47 [==============================] - 14s 308ms/step - loss: 1.0904 - accuracy: 0.3773 - val_loss: 1.0931 - val_accuracy: 0.3813\n",
      "94/94 [==============================] - 1s 7ms/step - loss: 1.0434 - accuracy: 0.6057\n"
     ]
    }
   ],
   "source": [
    "#CIFAR fit\n",
    "mean_3 = []\n",
    "mean_EM_3 = []\n",
    "times = 5\n",
    "for i in range(times):\n",
    "    \n",
    "    model3 = createModel3()\n",
    "    batch_size = 128\n",
    "    epochs = 15\n",
    "    model3.compile(optimizer='rmsprop', loss='categorical_crossentropy', metrics=['accuracy'])\n",
    "\n",
    "    history3 = model3.fit(train_data3, train_labels_one_hot3, batch_size=batch_size, epochs=epochs, verbose=1, \n",
    "                       validation_split=0.2)\n",
    "    #Directly VGG\n",
    "    score = model3.evaluate(test_data3, test_labels_one_hot3)\n",
    "    \n",
    "    mean_3.append(score[1])\n",
    "    \n",
    "    #EM\n",
    "    matrix3 = matrix_inv(model3, train_data3, train_labels3)\n",
    "    \n",
    "    acc3_EM = cal_acc(matrix3, model3, test_data3, test_labels3)\n",
    "    \n",
    "    mean_EM_3.append(acc3_EM)\n",
    "    "
   ]
  },
  {
   "cell_type": "markdown",
   "metadata": {},
   "source": [
    "### 5.3.2 Estimate Transition Matrix"
   ]
  },
  {
   "cell_type": "code",
   "execution_count": 58,
   "metadata": {},
   "outputs": [
    {
     "data": {
      "text/plain": [
       "array([[0.4304, 0.0782, 0.4914],\n",
       "       [0.4074, 0.1318, 0.4608],\n",
       "       [0.3176, 0.0914, 0.591 ]])"
      ]
     },
     "execution_count": 58,
     "metadata": {},
     "output_type": "execute_result"
    }
   ],
   "source": [
    "#EM\n",
    "matrix3 = matrix_inv(model3, train_data3, train_labels3)\n",
    "matrix3"
   ]
  },
  {
   "cell_type": "markdown",
   "metadata": {},
   "source": [
    "### 5.3.3 Calculate the Mean and STD"
   ]
  },
  {
   "cell_type": "code",
   "execution_count": 59,
   "metadata": {},
   "outputs": [
    {
     "name": "stdout",
     "output_type": "stream",
     "text": [
      "Mean of directly VGG is: 61.49%  STD is : 0.008950733988945683\n",
      "Mean of Estimated Transition Matrix is: 68.71%  STD is : 0.02679917079977581\n"
     ]
    }
   ],
   "source": [
    "##Mean and std\n",
    "print(\"Mean of directly VGG is: {:.2f}%\".format(np.array(mean_3).mean()*100),\" STD is :\",np.array(mean_3).std())\n",
    "print(\"Mean of Estimated Transition Matrix is: {:.2f}%\".format(np.array(mean_EM_3).mean()*100),\" STD is :\",np.array(mean_EM_3).std())"
   ]
  },
  {
   "cell_type": "markdown",
   "metadata": {},
   "source": [
    "### 5.3.4 Comparison Charts"
   ]
  },
  {
   "cell_type": "code",
   "execution_count": 98,
   "metadata": {},
   "outputs": [
    {
     "data": {
      "image/png": "[encoded data removed]",
      "text/plain": [
       "<Figure size 432x288 with 1 Axes>"
      ]
     },
     "metadata": {
      "needs_background": "light"
     },
     "output_type": "display_data"
    },
    {
     "data": {
      "image/png": "[encoded data removed]",
      "text/plain": [
       "<Figure size 432x288 with 1 Axes>"
      ]
     },
     "metadata": {
      "needs_background": "light"
     },
     "output_type": "display_data"
    }
   ],
   "source": [
    "#Graph of directly CNN-VGG accuracy and Estimated Transition Matrix accuracy\n",
    "plt.title(\"CNN-VGG accuracy,True TM accuracy and Estimated TM accuracy\")\n",
    "plt.plot(mean_3, label='accuracy')\n",
    "#plt.plot(mean_TM_1, label = 'TTM_accuracy')\n",
    "plt.plot(mean_EM_3, label = 'ETM_accuracy')\n",
    "plt.xlabel('Epoch')\n",
    "plt.ylabel('Accuracy')\n",
    "plt.ylim([0.4, 0.8])\n",
    "plt.legend(loc='lower right')\n",
    "plt.show()\n",
    "\n",
    "#Graph of train accuracy and val-accuracy\n",
    "plt.title(\"train accuracy and val-accuracy\")\n",
    "plt.plot(history3.history['accuracy'], label='train_accuracy')\n",
    "plt.plot(history3.history['val_accuracy'], label = 'val_accuracy')\n",
    "plt.xlabel('Epoch')\n",
    "plt.ylabel('Accuracy')\n",
    "plt.ylim([0.2, 0.45])\n",
    "plt.legend(loc='lower right')\n",
    "plt.show()\n",
    "# test_loss, test_acc = cnn_mnist.evaluate(x_test_mnist,  y_test_mnist, verbose=2)"
   ]
  },
  {
   "cell_type": "code",
   "execution_count": null,
   "metadata": {},
   "outputs": [],
   "source": []
  },
  {
   "cell_type": "code",
   "execution_count": null,
   "metadata": {},
   "outputs": [],
   "source": []
  },
  {
   "cell_type": "code",
   "execution_count": null,
   "metadata": {},
   "outputs": [],
   "source": []
  }
 ],
 "metadata": {
  "kernelspec": {
   "display_name": "Python 3",
   "language": "python",
   "name": "python3"
  },
  "language_info": {
   "codemirror_mode": {
    "name": "ipython",
    "version": 3
   },
   "file_extension": ".py",
   "mimetype": "text/x-python",
   "name": "python",
   "nbconvert_exporter": "python",
   "pygments_lexer": "ipython3",
   "version": "3.7.4"
  }
 },
 "nbformat": 4,
 "nbformat_minor": 2
}
